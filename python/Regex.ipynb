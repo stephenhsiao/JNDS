{
 "cells": [
  {
   "cell_type": "markdown",
   "metadata": {
    "button": false,
    "deletable": true,
    "new_sheet": false,
    "run_control": {
     "read_only": false
    }
   },
   "source": [
    "<img src=\"http://static.tvtropes.org/pmwiki/pub/images/acslatersitting_1267.jpg\" alt=\"Title\"/>"
   ]
  },
  {
   "cell_type": "markdown",
   "metadata": {
    "button": false,
    "deletable": true,
    "new_sheet": false,
    "run_control": {
     "read_only": false
    }
   },
   "source": [
    "# Hey there fellow student. Come closer. I want to jive with you for a second."
   ]
  },
  {
   "cell_type": "code",
   "execution_count": 1,
   "metadata": {
    "button": false,
    "collapsed": true,
    "deletable": true,
    "new_sheet": false,
    "run_control": {
     "read_only": false
    }
   },
   "outputs": [],
   "source": [
    "# Take a close look at this string!\n",
    "\n",
    "stringy = \"<div> Address: 1234 Fake Lane, FakeFake Faketown New Jersey, 90048 </div>\"\n",
    "\n",
    "# Wouldn't it be nice to easily find information in strings like this?"
   ]
  },
  {
   "cell_type": "markdown",
   "metadata": {
    "button": false,
    "deletable": true,
    "new_sheet": false,
    "run_control": {
     "read_only": false
    }
   },
   "source": [
    "## Well now you can! With regular expressions, you can quickly search through large amounts of data with a simple set of rules! Let's dig in! "
   ]
  },
  {
   "cell_type": "markdown",
   "metadata": {
    "button": false,
    "deletable": true,
    "new_sheet": false,
    "run_control": {
     "read_only": false
    }
   },
   "source": [
    "<img src=\"http://37.media.tumblr.com/tumblr_m8tx99Cu2x1rdutw3o1_500.gif\" alt=\"Title\" style=\"width: 250px\"/>"
   ]
  },
  {
   "cell_type": "code",
   "execution_count": 2,
   "metadata": {
    "button": false,
    "collapsed": false,
    "deletable": true,
    "new_sheet": false,
    "run_control": {
     "read_only": false
    }
   },
   "outputs": [],
   "source": [
    "import re\n",
    "\n",
    "# The . matches any character except a newline (\\n)\n",
    "m = re.search('.', stringy)\n",
    "\n",
    "# m.group() contains an array of all of our matches. I wonder what this does...\n",
    "#print m.group()"
   ]
  },
  {
   "cell_type": "code",
   "execution_count": 3,
   "metadata": {
    "button": false,
    "collapsed": false,
    "deletable": true,
    "new_sheet": false,
    "run_control": {
     "read_only": false
    }
   },
   "outputs": [],
   "source": [
    "# The ^ matches the start of a string\n",
    "m = re.search('^...', stringy)\n",
    "\n",
    "# Try to guess. What will this print?\n",
    "#print m.group()"
   ]
  },
  {
   "cell_type": "code",
   "execution_count": 4,
   "metadata": {
    "button": false,
    "collapsed": false,
    "deletable": true,
    "new_sheet": false,
    "run_control": {
     "read_only": false
    }
   },
   "outputs": [],
   "source": [
    "# Gnarly dude! You've got this down! Let's add some more!\n",
    "# The $ matches the end of a string\n",
    "m = re.search('...$', stringy)\n",
    "\n",
    "# Try to guess. What will this print?\n",
    "#print m.group()"
   ]
  },
  {
   "cell_type": "code",
   "execution_count": 5,
   "metadata": {
    "button": false,
    "collapsed": false,
    "deletable": true,
    "new_sheet": false,
    "run_control": {
     "read_only": false
    }
   },
   "outputs": [],
   "source": [
    "# The * matches 0 - many repetitions of a string\n",
    "m = re.search('<div>.*x*', stringy)\n",
    "\n",
    "# Try to guess. What will this print?\n",
    "#print m.group()"
   ]
  },
  {
   "cell_type": "code",
   "execution_count": 6,
   "metadata": {
    "button": false,
    "collapsed": false,
    "deletable": true,
    "new_sheet": false,
    "run_control": {
     "read_only": false
    }
   },
   "outputs": [],
   "source": [
    "# The + matches 1 - many repetitions of a string\n",
    "m = re.search('<div>.*Fake+', stringy)\n",
    "\n",
    "# Try to guess. What will this print?\n",
    "#print m.group()"
   ]
  },
  {
   "cell_type": "code",
   "execution_count": 7,
   "metadata": {
    "button": false,
    "collapsed": false,
    "deletable": true,
    "new_sheet": false,
    "run_control": {
     "read_only": false
    }
   },
   "outputs": [],
   "source": [
    "# The ? matches 0 - 1 repetitions of a string\n",
    "m = re.search('.*Fake?', stringy)\n",
    "\n",
    "# Try to guess. What will this print?\n",
    "#print m.group()\n",
    "\n",
    "# If you combine it with the . and * rules, you can return the first instance of a pattern match\n",
    "m = re.search('(.*?)ke', stringy)\n",
    "\n",
    "# Try to guess. What will this print?\n",
    "#print m.group()"
   ]
  },
  {
   "cell_type": "code",
   "execution_count": 8,
   "metadata": {
    "button": false,
    "collapsed": false,
    "deletable": true,
    "new_sheet": false,
    "run_control": {
     "read_only": false
    }
   },
   "outputs": [],
   "source": [
    "# Use () to find whole words, phrases, or regexs\n",
    "m = re.search('(Fake)? Lane.*', stringy)\n",
    "\n",
    "# Try to guess. What will this print?\n",
    "#print m.group()"
   ]
  },
  {
   "cell_type": "code",
   "execution_count": 9,
   "metadata": {
    "button": false,
    "collapsed": false,
    "deletable": true,
    "new_sheet": false,
    "run_control": {
     "read_only": false
    }
   },
   "outputs": [],
   "source": [
    "# This regex: Fake{2,3} matches 2 to 3 copies of the preceding string\n",
    "m = re.search('.*(Fake){2,3}', stringy)\n",
    "\n",
    "# Try to guess. What will this print?\n",
    "#print m.group()"
   ]
  },
  {
   "cell_type": "code",
   "execution_count": 10,
   "metadata": {
    "button": false,
    "collapsed": false,
    "deletable": true,
    "new_sheet": false,
    "run_control": {
     "read_only": false
    }
   },
   "outputs": [],
   "source": [
    "# Use [] to indicate a set of characters\n",
    "m = re.search('<div>.*?FakeF[a-z]?', stringy)\n",
    "\n",
    "# Try to guess. What will this print?\n",
    "#print m.group()"
   ]
  },
  {
   "cell_type": "code",
   "execution_count": 11,
   "metadata": {
    "button": false,
    "collapsed": false,
    "deletable": true,
    "new_sheet": false,
    "run_control": {
     "read_only": false
    }
   },
   "outputs": [],
   "source": [
    "# Use | to denote \"or\" expressions\n",
    "m = re.search('Fake[F|t]', stringy)\n",
    "\n",
    "# Try to guess. What will this print?\n",
    "#print m.group()\n",
    "\n",
    "m = re.search('<div>.*Fake[F|t]?', stringy)\n",
    "\n",
    "# Try to guess. What will this print?\n",
    "#print m.group()"
   ]
  },
  {
   "cell_type": "code",
   "execution_count": 12,
   "metadata": {
    "button": false,
    "collapsed": false,
    "deletable": true,
    "new_sheet": false,
    "run_control": {
     "read_only": false
    }
   },
   "outputs": [],
   "source": [
    "# \\b: matches empty string at beginning or end of word\n",
    "m = re.search('..\\b*Fake\\b*..', stringy)\n",
    "\n",
    "# Try to guess. What will this print?\n",
    "#print m.group()"
   ]
  },
  {
   "cell_type": "code",
   "execution_count": 13,
   "metadata": {
    "button": false,
    "collapsed": false,
    "deletable": true,
    "new_sheet": false,
    "run_control": {
     "read_only": false
    }
   },
   "outputs": [],
   "source": [
    "# \\d: matches a digit character\n",
    "m = re.search('\\d+', stringy)\n",
    "\n",
    "# Try to guess. What will this print?\n",
    "#print m.group()"
   ]
  },
  {
   "cell_type": "code",
   "execution_count": 14,
   "metadata": {
    "button": false,
    "collapsed": false,
    "deletable": true,
    "new_sheet": false,
    "run_control": {
     "read_only": false
    }
   },
   "outputs": [],
   "source": [
    "# \\d: matches a non-digit character\n",
    "m = re.search('\\D+', stringy)\n",
    "\n",
    "# Try to guess. What will this print?\n",
    "#print m.group()"
   ]
  },
  {
   "cell_type": "code",
   "execution_count": 15,
   "metadata": {
    "button": false,
    "collapsed": false,
    "deletable": true,
    "new_sheet": false,
    "run_control": {
     "read_only": false
    }
   },
   "outputs": [],
   "source": [
    "# \\s: matches any whitespace character\n",
    "m = re.search('..\\s+..', stringy)\n",
    "\n",
    "# Try to guess. What will this print?\n",
    "#print m.group()"
   ]
  },
  {
   "cell_type": "code",
   "execution_count": 16,
   "metadata": {
    "button": false,
    "collapsed": false,
    "deletable": true,
    "new_sheet": false,
    "run_control": {
     "read_only": false
    }
   },
   "outputs": [],
   "source": [
    "# \\S: matches any non-whitespace character\n",
    "m = re.search('\\S+', stringy)\n",
    "\n",
    "# Try to guess. What will this print?\n",
    "#print m.group()"
   ]
  },
  {
   "cell_type": "code",
   "execution_count": 17,
   "metadata": {
    "button": false,
    "collapsed": false,
    "deletable": true,
    "new_sheet": false,
    "run_control": {
     "read_only": false
    }
   },
   "outputs": [],
   "source": [
    "# \\w: matches any alphanumeric character\n",
    "m = re.search('\\w+', stringy)\n",
    "\n",
    "# Try to guess. What will this print?\n",
    "#print m.group()"
   ]
  },
  {
   "cell_type": "code",
   "execution_count": 18,
   "metadata": {
    "button": false,
    "collapsed": false,
    "deletable": true,
    "new_sheet": false,
    "run_control": {
     "read_only": false
    }
   },
   "outputs": [],
   "source": [
    "# \\W: matches any non-alphanumeric character\n",
    "m = re.search('\\W+', stringy)\n",
    "\n",
    "# Try to guess. What will this print?\n",
    "#print m.group()"
   ]
  },
  {
   "cell_type": "code",
   "execution_count": 19,
   "metadata": {
    "button": false,
    "collapsed": false,
    "deletable": true,
    "new_sheet": false,
    "run_control": {
     "read_only": false
    }
   },
   "outputs": [],
   "source": [
    "# Use findall to return all results\n",
    "m = re.findall('Fake\\w+\\s?', stringy)\n",
    "\n",
    "# Try to guess. What will this print?\n",
    "#print m"
   ]
  },
  {
   "cell_type": "markdown",
   "metadata": {
    "button": false,
    "deletable": true,
    "new_sheet": false,
    "run_control": {
     "read_only": false
    }
   },
   "source": [
    "<img src=\"http://31.media.tumblr.com/b495222ee1e2df2b1a478c2d5a58df5f/tumblr_mlfep4fByu1rd6wt2o1_500.gif\" alt=\"Title\" style=\"width: 250px\"/>"
   ]
  },
  {
   "cell_type": "markdown",
   "metadata": {
    "button": false,
    "deletable": true,
    "new_sheet": false,
    "run_control": {
     "read_only": false
    }
   },
   "source": [
    "### You're gnarly bro! Let's generate some data! Run the next cell."
   ]
  },
  {
   "cell_type": "code",
   "execution_count": 20,
   "metadata": {
    "button": false,
    "collapsed": false,
    "deletable": true,
    "new_sheet": false,
    "run_control": {
     "read_only": false
    }
   },
   "outputs": [
    {
     "name": "stdout",
     "output_type": "stream",
     "text": [
      "liquidate inexplainable glutinous chronograph semantic lien weal deduct gagwriter sheik felt familia\n"
     ]
    }
   ],
   "source": [
    "import requests\n",
    "import random\n",
    "import numpy as np\n",
    "\n",
    "word_site = \"http://svnweb.freebsd.org/csrg/share/dict/words?view=co&content-type=text/plain\"\n",
    "\n",
    "response = requests.get(word_site)\n",
    "WORDS = response.content.splitlines()\n",
    "not_proper = [word for word in WORDS if not word[0].isupper()]\n",
    "\n",
    "class formWords:\n",
    "    def __init__(self, not_proper):\n",
    "        self.not_proper = not_proper\n",
    "\n",
    "    def randomNonProper(self):\n",
    "        return self.not_proper[np.random.randint(0,len(self.not_proper))]\n",
    "        \n",
    "    def generateText(self, blog_length):\n",
    "        blog = []\n",
    "        for x in range(blog_length):\n",
    "            blog += [self.randomNonProper()]\n",
    "    \n",
    "        return \" \".join(blog)\n",
    "\n",
    "words = formWords(not_proper)\n",
    "\n",
    "#This is the data variable\n",
    "data = words.generateText(500)\n",
    "print data[:100]"
   ]
  },
  {
   "cell_type": "markdown",
   "metadata": {
    "button": false,
    "deletable": true,
    "new_sheet": false,
    "run_control": {
     "read_only": false
    }
   },
   "source": [
    "### Good golly! That sure is alot of data. Hopefully regular expressions can help us through this jam..."
   ]
  },
  {
   "cell_type": "code",
   "execution_count": 21,
   "metadata": {
    "button": false,
    "collapsed": false,
    "deletable": true,
    "new_sheet": false,
    "run_control": {
     "read_only": false
    }
   },
   "outputs": [
    {
     "name": "stdout",
     "output_type": "stream",
     "text": [
      "['semantic', 'doorman', 'hillman', 'trencherman', 'semantic', 'gentleman', 'penman']\n"
     ]
    }
   ],
   "source": [
    "# Find all the words with 'man' in them\n",
    "import re\n",
    "m = re.findall('\\w*man\\w*', data)\n",
    "print m"
   ]
  },
  {
   "cell_type": "code",
   "execution_count": 23,
   "metadata": {
    "button": false,
    "collapsed": false,
    "deletable": true,
    "new_sheet": false,
    "run_control": {
     "read_only": false
    }
   },
   "outputs": [
    {
     "name": "stdout",
     "output_type": "stream",
     "text": [
      "['anastomotic', 'anecdotal', 'arbutus', 'airpark', 'astatine', 'administrate', 'abed', 'afterthought', 'abetted', 'any', 'ambitious', 'alum', 'antagonism', 'avalanche', 'amulet', 'aldrin', 'await', 'artifice', 'area', 'atlantic', 'astringent', 'adverb', 'aniline', 'agglutinate', 'anchorite', 'archetypical', 'aryl', 'assumption', 'announce', 'advent', 'arrive', 'abbe', 'airplane', 'absorb']\n"
     ]
    }
   ],
   "source": [
    "# Find all the words that begin with an 'a'\n",
    "import re\n",
    "m = re.findall('\\s+(a\\w*)', data)\n",
    "print m"
   ]
  },
  {
   "cell_type": "code",
   "execution_count": 24,
   "metadata": {
    "button": false,
    "collapsed": false,
    "deletable": true,
    "new_sheet": false,
    "run_control": {
     "read_only": false
    }
   },
   "outputs": [
    {
     "name": "stdout",
     "output_type": "stream",
     "text": [
      "['cockleshell', 'contrive', 'conservatory', 'potato', 'contrive', 'doorman', 'cookie', 'housework', 'bony', 'copious', 'ponderosa', 'comment', 'booze', 'compendia', 'loon', 'monastery', 'goof', 'hoof', 'nocturne', 'forborne', 'colatitude', 'sorry', 'tortoise', 'coat', 'connotation', 'longitude', 'rotenone', 'homo', 'loosestrife', 'tog', 'postage', 'morgue', 'congress', 'solder', 'road', 'colt', 'jot', 'gown', 'conjure', 'condescend', 'posh', 'contradictory', 'bode', 'coca', 'corrosive', 'fort', 'society', 'women', 'coffin', 'position', 'ton', 'volleyball', 'concertmaster', 'popular', 'toward', 'monomial', 'commemorate', 'doctorate', 'someone', 'fought', 'zombie', 'robe', 'hock', 'longwinded', 'continue', 'cowpea', 'foliate', 'colonnade', 'consolidate', 'jog', 'fort', 'loyalty', 'poetry', 'yoghurt', 'corral', 'conservation', 'for', 'pour', 'coyote', 'journal', 'torrent']\n"
     ]
    }
   ],
   "source": [
    "# Find all the words with an 'o' as the second letter\n",
    "import re\n",
    "m = re.findall('\\s+(\\wo\\w*)', data)\n",
    "print m"
   ]
  },
  {
   "cell_type": "code",
   "execution_count": 25,
   "metadata": {
    "button": false,
    "collapsed": false,
    "deletable": true,
    "new_sheet": false,
    "run_control": {
     "read_only": false
    }
   },
   "outputs": [
    {
     "name": "stdout",
     "output_type": "stream",
     "text": [
      "['inexplainable', 'glutinous', 'chronograph', 'semantic', 'deduct', 'gagwriter', 'familiar', 'surcease', 'excessive', 'reprieve', 'anastomotic', 'anecdotal', 'contrive', 'thereat', 'exactitude', 'shove', 'flagellate', 'buttonhole', 'nefarious', 'frolicking', 'vitriolic', 'paternoster', 'referee', 'conservatory', 'tumultuous', 'camouflage', 'ketosis', 'arbutus', 'decent', 'nickname', 'bequest', 'stupa', 'potato', 'travel', 'chauvinist', 'contrive', 'backside', 'ramify', 'pearlstone', 'secretive', 'prosodic', 'baleful', 'cookie', 'hillside', 'astatine', 'housework', 'physiology', 'administrate', 'diplomat', 'omit', 'stale', 'judicious', 'fireplace', 'benzene', 'abed', 'existent', 'copious', 'titanate', 'plaque', 'expansive', 'chronic', 'ponderosa', 'abetted', 'relaxation', 'booze', 'yellowish', 'prostate', 'monastery', 'indifferent', 'ambitious', 'paragon', 'scarify', 'alum', 'ozone', 'maltose', 'rehearsal', 'mucilage', 'lightface', 'seaward', 'improve', 'transitory', 'disambiguate', 'thine', 'antagonism', 'emotion', 'illustrate', 'phosphorylate', 'vestige', 'avalanche', 'onomatopoeic', 'colatitude', 'amulet', 'tortoise', 'tuition', 'profit', 'paramount', 'impolitic', 'graham', 'gaze', 'connotation', 'registrant', 'await', 'yeomen', 'longitude', 'rotenone', 'enormity', 'geese', 'primeval', 'homo', 'loosestrife', 'retain', 'vertices', 'envelope', 'sinus', 'crustacean', 'postage', 'artifice', 'occident', 'integer', 'area', 'inertance', 'imagen', 'gamin', 'valentine', 'shave', 'facetious', 'original', 'maroon', 'pleasure', 'liberty', 'magnanimity', 'helix', 'sincere', 'lepidolite', 'existent', 'oxalate', 'aniline', 'ravine', 'stopover', 'serious', 'drugstore', 'plantation', 'agglutinate', 'indeterminate', 'conjure', 'inadmissible', 'janitorial', 'phrase', 'gratuity', 'anchorite', 'hydrogen', 'jukebox', 'swipe', 'ferroelectric', 'finesse', 'natal', 'contradictory', 'damage', 'bode', 'coca', 'supplementary', 'corrosive', 'archetypical', 'deterrent', 'parolee', 'society', 'women', 'resist', 'remunerate', 'prayerful', 'electrophoresis', 'flowerpot', 'lexicographer', 'hellebore', 'position', 'navel', 'whore', 'regiment', 'semantic', 'medicinal', 'tetanus', 'maladapt', 'mathematic', 'specular', 'refer', 'clarinet', 'leaven', 'sprite', 'popular', 'vegetate', 'theorem', 'mutiny', 'spline', 'salubrious', 'toward', 'monomial', 'lineal', 'commemorate', 'hailstone', 'rural', 'herbivorous', 'cutoff', 'doctorate', 'deterrent', 'imposture', 'berkelium', 'intervene', 'cashmere', 'orthopedic', 'stagnate', 'legitimate', 'someone', 'hydronium', 'robe', 'deceive', 'arrive', 'stoichiometry', 'exec', 'interpretive', 'continue', 'pigeonhole', 'bedside', 'testate', 'massive', 'foliate', 'latitude', 'colonnade', 'consolidate', 'camilla', 'statesmen', 'fundamental', 'gentleman', 'cloaca', 'evolutionary', 'wavenumber', 'pacemake', 'loyalty', 'heliotrope', 'nature', 'inexhaustible', 'unity', 'genius', 'mercuric', 'straightaway', 'spheroid', 'quasar', 'conservation', 'petroleum', 'laborious', 'airplane', 'coyote']\n"
     ]
    }
   ],
   "source": [
    "# Find all the words with vowels surrounding one consonant\n",
    "import re\n",
    "m = re.findall('\\s+(\\w*[aeiou][b-df-hj-np-tv-z][aeiou]\\w*)', data)\n",
    "print m"
   ]
  },
  {
   "cell_type": "code",
   "execution_count": 26,
   "metadata": {
    "button": false,
    "collapsed": false,
    "deletable": true,
    "new_sheet": false,
    "run_control": {
     "read_only": false
    }
   },
   "outputs": [
    {
     "name": "stdout",
     "output_type": "stream",
     "text": [
      "['inexplainable', 'chronograph', 'gagwriter', 'cockleshell', 'contrive', 'beryl', 'bullhead', 'bestubble', 'kingpin', 'wildcat', 'impress', 'nickname', 'contrive', 'partner', 'backside', 'underclassmen', 'bankruptcy', 'clothesbrush', 'pearlstone', 'pyre', 'hillside', 'hangdog', 'physiology', 'administrate', 'laughter', 'orchard', 'throughout', 'afterthought', 'castle', 'chronic', 'baldy', 'carpentry', 'fleshy', 'whittle', 'hillman', 'lightface', 'improve', 'trencherman', 'illustrate', 'phosphorylate', 'avalanche', 'sorry', 'supple', 'aldrin', 'pronghorn', 'emptyhanded', 'inchworm', 'registrant', 'loosestrife', 'kestrel', 'astringent', 'congress', 'saprophytic', 'liberty', 'handwritten', 'drugstore', 'circumspect', 'agglutinate', 'springtail', 'phrase', 'industrial', 'anchorite', 'hydrogen', 'shatterproof', 'ferroelectric', 'contradictory', 'supplementary', 'archetypical', 'winch', 'churchgoer', 'electrophoresis', 'aryl', 'caught', 'grandchildren', 'crystallographer', 'schism', 'gritty', 'twaddle', 'groggy', 'concertmaster', 'sprite', 'minstrelsy', 'spline', 'assumption', 'trickle', 'hailstone', 'stretch', 'veldt', 'cashmere', 'orthopedic', 'mattress', 'milky', 'fought', 'hydronium', 'sunscreen', 'micrography', 'windswept', 'bryophyta', 'snuggly', 'cackle', 'longwinded', 'nestle', 'stoichiometry', 'interpretive', 'gentleman', 'sanctity', 'throat', 'loyalty', 'poetry', 'frizzle', 'straightaway', 'slaughter', 'spheroid', 'crystal', 'signpost', 'airplane']\n"
     ]
    }
   ],
   "source": [
    "# Find all the words with three consecutive consonants\n",
    "import re\n",
    "m = re.findall('\\s+(\\w*[b-df-hj-np-tv-z]{3}\\w*)', data)\n",
    "print m"
   ]
  },
  {
   "cell_type": "code",
   "execution_count": 28,
   "metadata": {
    "button": false,
    "collapsed": false,
    "deletable": true,
    "new_sheet": false,
    "run_control": {
     "read_only": false
    },
    "scrolled": true
   },
   "outputs": [
    {
     "name": "stdout",
     "output_type": "stream",
     "text": [
      "['earwig anastomotic', 'airpark igneous', 'abed existent', 'indifferent ambitious', 'alum ozone', 'emotion illustrate', 'avalanche onomatopoeic', 'artifice occident', 'integer area', 'inertance atlantic', 'ex imagen', 'original astringent', 'electrophoresis aryl', 'abbe utter']\n"
     ]
    }
   ],
   "source": [
    "# Find all the words that begin and end with a vowel\n",
    "import re\n",
    "m = re.findall('\\s+([aeiou]\\w*\\s+[aeiou]\\w*)', data)\n",
    "print m"
   ]
  },
  {
   "cell_type": "code",
   "execution_count": 27,
   "metadata": {
    "button": false,
    "collapsed": false,
    "deletable": true,
    "new_sheet": false,
    "run_control": {
     "read_only": false
    }
   },
   "outputs": [
    {
     "name": "stdout",
     "output_type": "stream",
     "text": [
      "['cockleshell excessive', 'reprieve earwig', 'beryl exactitude', 'flagellate emma', 'dahlia impress', 'ketosis arbutus', 'backside underclassmen', 'cookie airpark', 'hillside astatine', 'physiology administrate', 'gallium omit', 'judicious orchard', 'fireplace interject', 'throughout abed', 'plaque expansive', 'pitfall abetted', 'green any', 'monastery indifferent', 'war alum', 'seaward improve', 'transitory o', 'trencherman antagonism', 'flaxseed emotion', 'vestige avalanche', 'colatitude amulet', 'supple aldrin', 'pronghorn emptyhanded', 'paramount impolitic', 'coat inchworm', 'registrant await', 'rotenone enormity', 'homo underling', 'retain expect', 'vertices envelope', 'postage artifice', 'kestrel ex', 'success inn', 'muskox original', 'helix invincible', 'lepidolite existent', 'growl oxalate', 'thinnish aniline', 'plantation agglutinate', 'gall indeterminate', 'conjure inadmissible', 'phrase industrial', 'gratuity anchorite', 'contradictory inductance', 'corrosive archetypical', 'coffin electrophoresis', 'lexicographer inductance', 'crystallographer invention', 'groggy insensible', 'spline assumption', 'crook idle', 'deterrent imposture', 'veldt intervene', 'veery orthopedic', 'method announce', 'deceive advent', 'nestle arrive', 'stoichiometry exec', 'freon interpretive', 'testate esteem', 'swathe upturn', 'fort evolutionary', 'nature inexhaustible', 'druid unity', 'suffix abbe', 'fervent airplane', 'torrent absorb']\n"
     ]
    }
   ],
   "source": [
    "# Find two words such that the first begins with a consonant and the second begins with a vowel\n",
    "import re\n",
    "m = re.findall('\\s+([b-df-hj-np-tv-z]\\w*\\s+[aeiou]\\w*)', data)\n",
    "print m"
   ]
  },
  {
   "cell_type": "code",
   "execution_count": null,
   "metadata": {
    "button": false,
    "collapsed": true,
    "deletable": true,
    "new_sheet": false,
    "run_control": {
     "read_only": false
    }
   },
   "outputs": [],
   "source": []
  }
 ],
 "metadata": {
  "anaconda-cloud": {},
  "kernelspec": {
   "display_name": "Python [Root]",
   "language": "python",
   "name": "Python [Root]"
  },
  "language_info": {
   "codemirror_mode": {
    "name": "ipython",
    "version": 2
   },
   "file_extension": ".py",
   "mimetype": "text/x-python",
   "name": "python",
   "nbconvert_exporter": "python",
   "pygments_lexer": "ipython2",
   "version": "2.7.12"
  }
 },
 "nbformat": 4,
 "nbformat_minor": 0
}
