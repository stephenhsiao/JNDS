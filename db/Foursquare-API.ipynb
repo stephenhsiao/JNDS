{
 "cells": [
  {
   "cell_type": "markdown",
   "metadata": {},
   "source": [
    "# Setting up Foursquare data for analysis \n",
    "\n",
    "DSI-Week08-3.2-lab"
   ]
  },
  {
   "cell_type": "markdown",
   "metadata": {},
   "source": [
    "\n",
    "> Note: This will be a very open ended lab, since everyone may end up using different geographies and starting seed geographies. Be prepared to walk around and hand-hold some people, I've tested this out on several locales around me and it works, for most, but if you don't have a good starting seed location, the procedure may not scrape well.\n",
    "\n",
    "Today's lab is going to get your hands dirty with respect to the Foursquare API. We're also going to build a simple crawler/scraper that will go through the JSON hierarchy, extract the data we want, and deposit them into a Pandas table so we can do simple analysis. \n",
    "\n",
    "Just in case you're unfamiliar with this concept, please refer to the Wikipedia page (it's actually pretty good): https://en.wikipedia.org/wiki/Web_scraping, and maybe spend a few moments discussing the concepts and how it could help you in the future as a data scientist to have this \"hackish\" skill. "
   ]
  },
  {
   "cell_type": "markdown",
   "metadata": {},
   "source": [
    "Setup your access token to foursquare"
   ]
  },
  {
   "cell_type": "code",
   "execution_count": 2,
   "metadata": {
    "collapsed": false
   },
   "outputs": [],
   "source": [
    "# Solutions\n",
    "\n",
    "import foursquare\n",
    "import json\n",
    "import pandas as pd\n",
    "import unicodedata\n",
    "\n",
    "\n",
    "#ACCESS_TOKEN = \"\"\n",
    "#client = foursquare.Foursquare(access_token=ACCESS_TOKEN)\n",
    "\n",
    "CLIENT_ID = 'YOUR CODE HERE'\n",
    "CLIENT_SECRET = 'YOUR CODE HERE'\n",
    "client = foursquare.Foursquare(client_id=CLIENT_ID, client_secret=CLIENT_SECRET)"
   ]
  },
  {
   "cell_type": "markdown",
   "metadata": {},
   "source": [
    "Use a foursquare python library method to search for suitable venues around a city near you. Print the associated JSON output in a nice way with appropriate spacing and indentation"
   ]
  },
  {
   "cell_type": "code",
   "execution_count": 3,
   "metadata": {
    "collapsed": false
   },
   "outputs": [
    {
     "ename": "InvalidAuth",
     "evalue": "Missing access credentials. See https://developer.foursquare.com/docs/oauth.html for details.",
     "output_type": "error",
     "traceback": [
      "\u001b[1;31m---------------------------------------------------------------------------\u001b[0m",
      "\u001b[1;31mInvalidAuth\u001b[0m                               Traceback (most recent call last)",
      "\u001b[1;32m<ipython-input-3-f0b377602746>\u001b[0m in \u001b[0;36m<module>\u001b[1;34m()\u001b[0m\n\u001b[0;32m      1\u001b[0m \u001b[1;31m# Solution\u001b[0m\u001b[1;33m\u001b[0m\u001b[1;33m\u001b[0m\u001b[0m\n\u001b[0;32m      2\u001b[0m \u001b[1;33m\u001b[0m\u001b[0m\n\u001b[1;32m----> 3\u001b[1;33m \u001b[0mstarting_list\u001b[0m \u001b[1;33m=\u001b[0m \u001b[0mclient\u001b[0m\u001b[1;33m.\u001b[0m\u001b[0mvenues\u001b[0m\u001b[1;33m.\u001b[0m\u001b[0msearch\u001b[0m\u001b[1;33m(\u001b[0m\u001b[0mparams\u001b[0m\u001b[1;33m=\u001b[0m\u001b[1;33m{\u001b[0m\u001b[1;34m'near'\u001b[0m\u001b[1;33m:\u001b[0m \u001b[1;34m'Blah, GA'\u001b[0m\u001b[1;33m,\u001b[0m \u001b[1;34m'radius'\u001b[0m\u001b[1;33m:\u001b[0m\u001b[1;34m'1500'\u001b[0m\u001b[1;33m}\u001b[0m\u001b[1;33m)\u001b[0m\u001b[1;33m\u001b[0m\u001b[0m\n\u001b[0m\u001b[0;32m      4\u001b[0m \u001b[1;32mprint\u001b[0m\u001b[1;33m(\u001b[0m\u001b[0mstarting_list\u001b[0m\u001b[1;33m)\u001b[0m\u001b[1;33m\u001b[0m\u001b[0m\n",
      "\u001b[1;32mC:\\Users\\shsiao\\AppData\\Local\\Continuum\\Anaconda2\\lib\\site-packages\\foursquare\\__init__.pyc\u001b[0m in \u001b[0;36msearch\u001b[1;34m(self, params, multi)\u001b[0m\n\u001b[0;32m    404\u001b[0m         \u001b[1;32mdef\u001b[0m \u001b[0msearch\u001b[0m\u001b[1;33m(\u001b[0m\u001b[0mself\u001b[0m\u001b[1;33m,\u001b[0m \u001b[0mparams\u001b[0m\u001b[1;33m,\u001b[0m \u001b[0mmulti\u001b[0m\u001b[1;33m=\u001b[0m\u001b[0mFalse\u001b[0m\u001b[1;33m)\u001b[0m\u001b[1;33m:\u001b[0m\u001b[1;33m\u001b[0m\u001b[0m\n\u001b[0;32m    405\u001b[0m             \u001b[1;34m\"\"\"https://developer.foursquare.com/docs/venues/search\"\"\"\u001b[0m\u001b[1;33m\u001b[0m\u001b[0m\n\u001b[1;32m--> 406\u001b[1;33m             \u001b[1;32mreturn\u001b[0m \u001b[0mself\u001b[0m\u001b[1;33m.\u001b[0m\u001b[0mGET\u001b[0m\u001b[1;33m(\u001b[0m\u001b[1;34m'search'\u001b[0m\u001b[1;33m,\u001b[0m \u001b[0mparams\u001b[0m\u001b[1;33m,\u001b[0m \u001b[0mmulti\u001b[0m\u001b[1;33m=\u001b[0m\u001b[0mmulti\u001b[0m\u001b[1;33m)\u001b[0m\u001b[1;33m\u001b[0m\u001b[0m\n\u001b[0m\u001b[0;32m    407\u001b[0m \u001b[1;33m\u001b[0m\u001b[0m\n\u001b[0;32m    408\u001b[0m         \u001b[1;32mdef\u001b[0m \u001b[0msuggestcompletion\u001b[0m\u001b[1;33m(\u001b[0m\u001b[0mself\u001b[0m\u001b[1;33m,\u001b[0m \u001b[0mparams\u001b[0m\u001b[1;33m,\u001b[0m \u001b[0mmulti\u001b[0m\u001b[1;33m=\u001b[0m\u001b[0mFalse\u001b[0m\u001b[1;33m)\u001b[0m\u001b[1;33m:\u001b[0m\u001b[1;33m\u001b[0m\u001b[0m\n",
      "\u001b[1;32mC:\\Users\\shsiao\\AppData\\Local\\Continuum\\Anaconda2\\lib\\site-packages\\foursquare\\__init__.pyc\u001b[0m in \u001b[0;36mGET\u001b[1;34m(self, path, *args, **kwargs)\u001b[0m\n\u001b[0;32m    268\u001b[0m         \u001b[1;32mdef\u001b[0m \u001b[0mGET\u001b[0m\u001b[1;33m(\u001b[0m\u001b[0mself\u001b[0m\u001b[1;33m,\u001b[0m \u001b[0mpath\u001b[0m\u001b[1;33m=\u001b[0m\u001b[0mNone\u001b[0m\u001b[1;33m,\u001b[0m \u001b[1;33m*\u001b[0m\u001b[0margs\u001b[0m\u001b[1;33m,\u001b[0m \u001b[1;33m**\u001b[0m\u001b[0mkwargs\u001b[0m\u001b[1;33m)\u001b[0m\u001b[1;33m:\u001b[0m\u001b[1;33m\u001b[0m\u001b[0m\n\u001b[0;32m    269\u001b[0m             \u001b[1;34m\"\"\"Use the requester to get the data\"\"\"\u001b[0m\u001b[1;33m\u001b[0m\u001b[0m\n\u001b[1;32m--> 270\u001b[1;33m             \u001b[1;32mreturn\u001b[0m \u001b[0mself\u001b[0m\u001b[1;33m.\u001b[0m\u001b[0mrequester\u001b[0m\u001b[1;33m.\u001b[0m\u001b[0mGET\u001b[0m\u001b[1;33m(\u001b[0m\u001b[0mself\u001b[0m\u001b[1;33m.\u001b[0m\u001b[0m_expanded_path\u001b[0m\u001b[1;33m(\u001b[0m\u001b[0mpath\u001b[0m\u001b[1;33m)\u001b[0m\u001b[1;33m,\u001b[0m \u001b[1;33m*\u001b[0m\u001b[0margs\u001b[0m\u001b[1;33m,\u001b[0m \u001b[1;33m**\u001b[0m\u001b[0mkwargs\u001b[0m\u001b[1;33m)\u001b[0m\u001b[1;33m\u001b[0m\u001b[0m\n\u001b[0m\u001b[0;32m    271\u001b[0m \u001b[1;33m\u001b[0m\u001b[0m\n\u001b[0;32m    272\u001b[0m         \u001b[1;32mdef\u001b[0m \u001b[0mPOST\u001b[0m\u001b[1;33m(\u001b[0m\u001b[0mself\u001b[0m\u001b[1;33m,\u001b[0m \u001b[0mpath\u001b[0m\u001b[1;33m=\u001b[0m\u001b[0mNone\u001b[0m\u001b[1;33m,\u001b[0m \u001b[1;33m*\u001b[0m\u001b[0margs\u001b[0m\u001b[1;33m,\u001b[0m \u001b[1;33m**\u001b[0m\u001b[0mkwargs\u001b[0m\u001b[1;33m)\u001b[0m\u001b[1;33m:\u001b[0m\u001b[1;33m\u001b[0m\u001b[0m\n",
      "\u001b[1;32mC:\\Users\\shsiao\\AppData\\Local\\Continuum\\Anaconda2\\lib\\site-packages\\foursquare\\__init__.pyc\u001b[0m in \u001b[0;36mGET\u001b[1;34m(self, path, params, **kwargs)\u001b[0m\n\u001b[0;32m    202\u001b[0m                 \u001b[0mpath\u001b[0m\u001b[1;33m=\u001b[0m\u001b[0mpath\u001b[0m\u001b[1;33m\u001b[0m\u001b[0m\n\u001b[0;32m    203\u001b[0m             )\n\u001b[1;32m--> 204\u001b[1;33m             \u001b[0mresult\u001b[0m \u001b[1;33m=\u001b[0m \u001b[0m_get\u001b[0m\u001b[1;33m(\u001b[0m\u001b[0murl\u001b[0m\u001b[1;33m,\u001b[0m \u001b[0mheaders\u001b[0m\u001b[1;33m=\u001b[0m\u001b[0mheaders\u001b[0m\u001b[1;33m,\u001b[0m \u001b[0mparams\u001b[0m\u001b[1;33m=\u001b[0m\u001b[0mparams\u001b[0m\u001b[1;33m)\u001b[0m\u001b[1;33m\u001b[0m\u001b[0m\n\u001b[0m\u001b[0;32m    205\u001b[0m             \u001b[0mself\u001b[0m\u001b[1;33m.\u001b[0m\u001b[0mrate_limit\u001b[0m \u001b[1;33m=\u001b[0m \u001b[0mresult\u001b[0m\u001b[1;33m[\u001b[0m\u001b[1;34m'headers'\u001b[0m\u001b[1;33m]\u001b[0m\u001b[1;33m[\u001b[0m\u001b[1;34m'X-RateLimit-Limit'\u001b[0m\u001b[1;33m]\u001b[0m\u001b[1;33m\u001b[0m\u001b[0m\n\u001b[0;32m    206\u001b[0m             \u001b[0mself\u001b[0m\u001b[1;33m.\u001b[0m\u001b[0mrate_remaining\u001b[0m \u001b[1;33m=\u001b[0m \u001b[0mresult\u001b[0m\u001b[1;33m[\u001b[0m\u001b[1;34m'headers'\u001b[0m\u001b[1;33m]\u001b[0m\u001b[1;33m[\u001b[0m\u001b[1;34m'X-RateLimit-Remaining'\u001b[0m\u001b[1;33m]\u001b[0m\u001b[1;33m\u001b[0m\u001b[0m\n",
      "\u001b[1;32mC:\\Users\\shsiao\\AppData\\Local\\Continuum\\Anaconda2\\lib\\site-packages\\foursquare\\__init__.pyc\u001b[0m in \u001b[0;36m_get\u001b[1;34m(url, headers, params)\u001b[0m\n\u001b[0;32m    756\u001b[0m             \u001b[1;32mtry\u001b[0m\u001b[1;33m:\u001b[0m\u001b[1;33m\u001b[0m\u001b[0m\n\u001b[0;32m    757\u001b[0m                 \u001b[0mresponse\u001b[0m \u001b[1;33m=\u001b[0m \u001b[0mrequests\u001b[0m\u001b[1;33m.\u001b[0m\u001b[0mget\u001b[0m\u001b[1;33m(\u001b[0m\u001b[0murl\u001b[0m\u001b[1;33m,\u001b[0m \u001b[0mheaders\u001b[0m\u001b[1;33m=\u001b[0m\u001b[0mheaders\u001b[0m\u001b[1;33m,\u001b[0m \u001b[0mparams\u001b[0m\u001b[1;33m=\u001b[0m\u001b[0mparam_string\u001b[0m\u001b[1;33m,\u001b[0m \u001b[0mverify\u001b[0m\u001b[1;33m=\u001b[0m\u001b[0mVERIFY_SSL\u001b[0m\u001b[1;33m)\u001b[0m\u001b[1;33m\u001b[0m\u001b[0m\n\u001b[1;32m--> 758\u001b[1;33m                 \u001b[1;32mreturn\u001b[0m \u001b[0m_process_response\u001b[0m\u001b[1;33m(\u001b[0m\u001b[0mresponse\u001b[0m\u001b[1;33m)\u001b[0m\u001b[1;33m\u001b[0m\u001b[0m\n\u001b[0m\u001b[0;32m    759\u001b[0m             \u001b[1;32mexcept\u001b[0m \u001b[0mrequests\u001b[0m\u001b[1;33m.\u001b[0m\u001b[0mexceptions\u001b[0m\u001b[1;33m.\u001b[0m\u001b[0mRequestException\u001b[0m \u001b[1;32mas\u001b[0m \u001b[0me\u001b[0m\u001b[1;33m:\u001b[0m\u001b[1;33m\u001b[0m\u001b[0m\n\u001b[0;32m    760\u001b[0m                 \u001b[0m_log_and_raise_exception\u001b[0m\u001b[1;33m(\u001b[0m\u001b[1;34m'Error connecting with foursquare API'\u001b[0m\u001b[1;33m,\u001b[0m \u001b[0me\u001b[0m\u001b[1;33m)\u001b[0m\u001b[1;33m\u001b[0m\u001b[0m\n",
      "\u001b[1;32mC:\\Users\\shsiao\\AppData\\Local\\Continuum\\Anaconda2\\lib\\site-packages\\foursquare\\__init__.pyc\u001b[0m in \u001b[0;36m_process_response\u001b[1;34m(response)\u001b[0m\n\u001b[0;32m    785\u001b[0m     \u001b[1;32mif\u001b[0m \u001b[0mresponse\u001b[0m\u001b[1;33m.\u001b[0m\u001b[0mstatus_code\u001b[0m \u001b[1;33m==\u001b[0m \u001b[1;36m200\u001b[0m\u001b[1;33m:\u001b[0m\u001b[1;33m\u001b[0m\u001b[0m\n\u001b[0;32m    786\u001b[0m         \u001b[1;32mreturn\u001b[0m \u001b[1;33m{\u001b[0m \u001b[1;34m'headers'\u001b[0m\u001b[1;33m:\u001b[0m \u001b[0mresponse\u001b[0m\u001b[1;33m.\u001b[0m\u001b[0mheaders\u001b[0m\u001b[1;33m,\u001b[0m \u001b[1;34m'data'\u001b[0m\u001b[1;33m:\u001b[0m \u001b[0mdata\u001b[0m \u001b[1;33m}\u001b[0m\u001b[1;33m\u001b[0m\u001b[0m\n\u001b[1;32m--> 787\u001b[1;33m     \u001b[1;32mreturn\u001b[0m \u001b[0m_raise_error_from_response\u001b[0m\u001b[1;33m(\u001b[0m\u001b[0mdata\u001b[0m\u001b[1;33m)\u001b[0m\u001b[1;33m\u001b[0m\u001b[0m\n\u001b[0m\u001b[0;32m    788\u001b[0m \u001b[1;33m\u001b[0m\u001b[0m\n\u001b[0;32m    789\u001b[0m \u001b[1;32mdef\u001b[0m \u001b[0m_raise_error_from_response\u001b[0m\u001b[1;33m(\u001b[0m\u001b[0mdata\u001b[0m\u001b[1;33m)\u001b[0m\u001b[1;33m:\u001b[0m\u001b[1;33m\u001b[0m\u001b[0m\n",
      "\u001b[1;32mC:\\Users\\shsiao\\AppData\\Local\\Continuum\\Anaconda2\\lib\\site-packages\\foursquare\\__init__.pyc\u001b[0m in \u001b[0;36m_raise_error_from_response\u001b[1;34m(data)\u001b[0m\n\u001b[0;32m    797\u001b[0m         \u001b[0mexc\u001b[0m \u001b[1;33m=\u001b[0m \u001b[0merror_types\u001b[0m\u001b[1;33m.\u001b[0m\u001b[0mget\u001b[0m\u001b[1;33m(\u001b[0m\u001b[0mmeta\u001b[0m\u001b[1;33m.\u001b[0m\u001b[0mget\u001b[0m\u001b[1;33m(\u001b[0m\u001b[1;34m'errorType'\u001b[0m\u001b[1;33m)\u001b[0m\u001b[1;33m)\u001b[0m\u001b[1;33m\u001b[0m\u001b[0m\n\u001b[0;32m    798\u001b[0m         \u001b[1;32mif\u001b[0m \u001b[0mexc\u001b[0m\u001b[1;33m:\u001b[0m\u001b[1;33m\u001b[0m\u001b[0m\n\u001b[1;32m--> 799\u001b[1;33m             \u001b[1;32mraise\u001b[0m \u001b[0mexc\u001b[0m\u001b[1;33m(\u001b[0m\u001b[0mmeta\u001b[0m\u001b[1;33m.\u001b[0m\u001b[0mget\u001b[0m\u001b[1;33m(\u001b[0m\u001b[1;34m'errorDetail'\u001b[0m\u001b[1;33m)\u001b[0m\u001b[1;33m)\u001b[0m\u001b[1;33m\u001b[0m\u001b[0m\n\u001b[0m\u001b[0;32m    800\u001b[0m         \u001b[1;32melse\u001b[0m\u001b[1;33m:\u001b[0m\u001b[1;33m\u001b[0m\u001b[0m\n\u001b[0;32m    801\u001b[0m             \u001b[0m_log_and_raise_exception\u001b[0m\u001b[1;33m(\u001b[0m\u001b[1;34m'Unknown error. meta'\u001b[0m\u001b[1;33m,\u001b[0m \u001b[0mmeta\u001b[0m\u001b[1;33m)\u001b[0m\u001b[1;33m\u001b[0m\u001b[0m\n",
      "\u001b[1;31mInvalidAuth\u001b[0m: Missing access credentials. See https://developer.foursquare.com/docs/oauth.html for details."
     ]
    }
   ],
   "source": [
    "# Solution\n",
    "\n",
    "starting_list = client.venues.search(params={'near': 'Blah, GA', 'radius':'1500'})\n",
    "print(starting_list)\n"
   ]
  },
  {
   "cell_type": "markdown",
   "metadata": {},
   "source": [
    "Wow... that should look like a total mess to you. Read the following docs: https://docs.python.org/2/library/json.html, and read the part about pretty printing. Once you think you've understood the method, deploy it here and see the world a difference a bit of spacing and indenting makes! "
   ]
  },
  {
   "cell_type": "code",
   "execution_count": null,
   "metadata": {
    "collapsed": false
   },
   "outputs": [],
   "source": [
    "print(json.dumps(starting_list, indent = 4))"
   ]
  },
  {
   "cell_type": "markdown",
   "metadata": {},
   "source": [
    "Now that we can make some sense of the structure let's practice traversing the JSON hieararchy, select one of the venues in the list and output it's name"
   ]
  },
  {
   "cell_type": "code",
   "execution_count": null,
   "metadata": {
    "collapsed": false
   },
   "outputs": [],
   "source": [
    "# Solution\n",
    "type(starting_list['venues'][23]['categories'][0]['name'])"
   ]
  },
  {
   "cell_type": "markdown",
   "metadata": {},
   "source": [
    "Note that the output isn't exactly what we want. It says u'Park', and if you check the type, Python will output Unicode. This isn't good, we need to recover the original intended type. Read the following docs: \n",
    "\n",
    "https://docs.python.org/2/library/unicodedata.html, and checkup the method 'normalize'. Once you think you've understood this method. Implement it on the above call and see if you can recover the appropriate type for that data.\n"
   ]
  },
  {
   "cell_type": "markdown",
   "metadata": {},
   "source": [
    "Now for some exploratory analysis, let's print the number of total venues in your list"
   ]
  },
  {
   "cell_type": "code",
   "execution_count": 4,
   "metadata": {
    "collapsed": false
   },
   "outputs": [
    {
     "data": {
      "text/plain": [
       "30"
      ]
     },
     "execution_count": 4,
     "metadata": {},
     "output_type": "execute_result"
    }
   ],
   "source": [
    "# Solution\n",
    "\n",
    "len(starting_list['venues'])"
   ]
  },
  {
   "cell_type": "markdown",
   "metadata": {},
   "source": [
    "Extract the location id for your starting list. Make sure it's normalized to its correct type, and not Unicode. Put this id in a variable called temp. From this id, we will get a list of other venues."
   ]
  },
  {
   "cell_type": "code",
   "execution_count": 13,
   "metadata": {
    "collapsed": false
   },
   "outputs": [
    {
     "data": {
      "text/plain": [
       "'4e7cab75cc2148fe4ae5c9ee'"
      ]
     },
     "execution_count": 13,
     "metadata": {},
     "output_type": "execute_result"
    }
   ],
   "source": [
    "# Solution\n",
    "\n",
    "temp = unicodedata.normalize('NFKD', starting_list['venues'][17]['id']).encode('ascii','ignore')"
   ]
  },
  {
   "cell_type": "markdown",
   "metadata": {},
   "source": [
    "Print the venues list (in the nicely formatted JSON)"
   ]
  },
  {
   "cell_type": "code",
   "execution_count": 6,
   "metadata": {
    "collapsed": false
   },
   "outputs": [
    {
     "name": "stdout",
     "output_type": "stream",
     "text": [
      "{\n",
      "    \"venue\": {\n",
      "        \"reasons\": {\n",
      "            \"count\": 0, \n",
      "            \"items\": []\n",
      "        }, \n",
      "        \"likes\": {\n",
      "            \"count\": 0, \n",
      "            \"groups\": []\n",
      "        }, \n",
      "        \"id\": \"4e7cab75cc2148fe4ae5c9ee\", \n",
      "        \"createdAt\": 1316793205, \n",
      "        \"verified\": false, \n",
      "        \"shortUrl\": \"http://4sq.com/nZ7PdA\", \n",
      "        \"hereNow\": {\n",
      "            \"count\": 0, \n",
      "            \"groups\": [], \n",
      "            \"summary\": \"Nobody here\"\n",
      "        }, \n",
      "        \"allowMenuUrlEdit\": true, \n",
      "        \"pageUpdates\": {\n",
      "            \"count\": 0, \n",
      "            \"items\": []\n",
      "        }, \n",
      "        \"listed\": {\n",
      "            \"count\": 0, \n",
      "            \"groups\": [\n",
      "                {\n",
      "                    \"count\": 0, \n",
      "                    \"items\": [], \n",
      "                    \"type\": \"others\", \n",
      "                    \"name\": \"Lists from other people\"\n",
      "                }\n",
      "            ]\n",
      "        }, \n",
      "        \"tips\": {\n",
      "            \"count\": 0, \n",
      "            \"groups\": [\n",
      "                {\n",
      "                    \"count\": 0, \n",
      "                    \"items\": [], \n",
      "                    \"type\": \"others\", \n",
      "                    \"name\": \"All tips\"\n",
      "                }\n",
      "            ]\n",
      "        }, \n",
      "        \"location\": {\n",
      "            \"city\": \"Atlanta\", \n",
      "            \"cc\": \"US\", \n",
      "            \"country\": \"United States\", \n",
      "            \"postalCode\": \"30326\", \n",
      "            \"state\": \"GA\", \n",
      "            \"formattedAddress\": [\n",
      "                \"E Paces Ferry (Oak Valley Rd)\", \n",
      "                \"Atlanta, GA 30326\", \n",
      "                \"United States\"\n",
      "            ], \n",
      "            \"crossStreet\": \"Oak Valley Rd\", \n",
      "            \"address\": \"E Paces Ferry\", \n",
      "            \"lat\": 34.05652786892042, \n",
      "            \"lng\": -84.06444433041452\n",
      "        }, \n",
      "        \"canonicalUrl\": \"https://foursquare.com/v/hail-caesar-food-truck/4e7cab75cc2148fe4ae5c9ee\", \n",
      "        \"tags\": [], \n",
      "        \"photos\": {\n",
      "            \"count\": 0, \n",
      "            \"groups\": []\n",
      "        }, \n",
      "        \"attributes\": {\n",
      "            \"groups\": []\n",
      "        }, \n",
      "        \"stats\": {\n",
      "            \"tipCount\": 0, \n",
      "            \"checkinsCount\": 12, \n",
      "            \"visitsCount\": 12, \n",
      "            \"usersCount\": 10\n",
      "        }, \n",
      "        \"dislike\": false, \n",
      "        \"categories\": [\n",
      "            {\n",
      "                \"pluralName\": \"Food Trucks\", \n",
      "                \"primary\": true, \n",
      "                \"name\": \"Food Truck\", \n",
      "                \"shortName\": \"Food Truck\", \n",
      "                \"id\": \"4bf58dd8d48988d1cb941735\", \n",
      "                \"icon\": {\n",
      "                    \"prefix\": \"https://ss3.4sqi.net/img/categories_v2/food/streetfood_\", \n",
      "                    \"suffix\": \".png\"\n",
      "                }\n",
      "            }\n",
      "        ], \n",
      "        \"ok\": false, \n",
      "        \"name\": \"Hail Caesar Food Truck\", \n",
      "        \"venueChains\": [], \n",
      "        \"specials\": {\n",
      "            \"count\": 0, \n",
      "            \"items\": []\n",
      "        }, \n",
      "        \"contact\": {\n",
      "            \"twitter\": \"caesartruck\"\n",
      "        }, \n",
      "        \"timeZone\": \"America/New_York\", \n",
      "        \"inbox\": {\n",
      "            \"count\": 0, \n",
      "            \"items\": []\n",
      "        }\n",
      "    }\n",
      "}\n"
     ]
    }
   ],
   "source": [
    "# Solution\n",
    "\n",
    "temp1 = client.venues(temp);\n",
    "print(json.dumps(temp1, indent = 4))"
   ]
  },
  {
   "cell_type": "markdown",
   "metadata": {},
   "source": [
    "Create a procedure that will only extract the comments in a list. There are a few ways you can do this, but I highly recommend you look up the map method from the base Python library: https://docs.python.org/2/tutorial/datastructures.html\n",
    "\n",
    "This is the same \"map\" function, that's one part of the map-reduce duo used in \"Big Data\" applications. So it may be helpful to get familiar with this method now if that's where you think you may want to take your career in the future. "
   ]
  },
  {
   "cell_type": "code",
   "execution_count": 8,
   "metadata": {
    "collapsed": false
   },
   "outputs": [
    {
     "data": {
      "text/plain": [
       "[]"
      ]
     },
     "execution_count": 8,
     "metadata": {},
     "output_type": "execute_result"
    }
   ],
   "source": [
    "# Solution\n",
    "map(lambda h: h['text'], temp1['venue']['tips']['groups'][0]['items'])"
   ]
  },
  {
   "cell_type": "markdown",
   "metadata": {},
   "source": [
    "Now we're going to bring the above mini-tasks together into a nice little method, that will allow us to convert any foursquare JSON data into a nice tabular / rectangular table for further analysis. First instnatiate a pandas data frame."
   ]
  },
  {
   "cell_type": "code",
   "execution_count": 9,
   "metadata": {
    "collapsed": false
   },
   "outputs": [],
   "source": [
    "venue_table = pd.DataFrame()"
   ]
  },
  {
   "cell_type": "markdown",
   "metadata": {},
   "source": [
    "Write a procedure that will take your list of venues around a certain geography/lat/long whatever, and output a table that will have for each row, a comment associated for the venue (multiple comments will mean multiple rows, each per comment), the venue name, the tip count, the user count, and the store category. Make sure that each column is populated with appropriately typed values, i.e. names/categories should be strings, and numbers should be numerical data type."
   ]
  },
  {
   "cell_type": "markdown",
   "metadata": {},
   "source": [
    "> To the instructor: I usually don't have this much latitude to the student, but it was requested that I give some \"open ended\"/\"munch on\" problems. I suspect the students will spend the most time here, they will certainly get errors, and they will be frustrated. Look through the ideal solution and be prepared to step in when appropriate. \n",
    "\n",
    "**Hint**: Before you begin, think about the process. You're going to start with a loop of some kind, then think about the following:\n",
    "- How many of those do you need? \n",
    "- Think about the JSON structure, how \"deep\" do you need to penetrate the hierarchy to reach the data you want (this will help you think about how many loops you need for your crawler\n",
    "- How should you iteratively add on to your Pandas data frame? \n",
    "- Think of any tests you may need to put in to ensure your procedure does not cause an error (this may help you figure out how many if statements you may need, and where to place them.\n"
   ]
  },
  {
   "cell_type": "code",
   "execution_count": 10,
   "metadata": {
    "collapsed": false
   },
   "outputs": [
    {
     "name": "stdout",
     "output_type": "stream",
     "text": [
      "0\n",
      "0\n",
      "test\n",
      "1\n",
      "test\n",
      "2\n",
      "test\n",
      "3\n",
      "test\n",
      "4\n",
      "test\n",
      "5\n",
      "test\n",
      "6\n",
      "test\n",
      "7\n",
      "test\n",
      "8\n",
      "test\n",
      "9\n",
      "test\n",
      "1\n",
      "2\n",
      "3\n",
      "4\n",
      "5\n",
      "6\n",
      "7\n",
      "8\n",
      "9\n",
      "10\n",
      "11\n",
      "12\n",
      "13\n",
      "14\n",
      "15\n",
      "16\n",
      "0\n",
      "test\n",
      "17\n",
      "18\n",
      "19\n",
      "20\n",
      "0\n",
      "test\n",
      "1\n",
      "test\n",
      "2\n",
      "test\n",
      "21\n",
      "22\n",
      "23\n",
      "24\n",
      "25\n",
      "26\n",
      "27\n",
      "28\n"
     ]
    }
   ],
   "source": [
    "# Solution - Note to instructor, the code may be slightly different, in particular the student should have written error-exception protocols to account for any \n",
    "# missing/empty values that may cause the procedure to kick-out in an error.\n",
    "\n",
    "for v_index in range(len(starting_list['venues'])-1):\n",
    "    temp = unicodedata.normalize('NFKD', starting_list['venues'][v_index]['id']).encode('ascii','ignore')\n",
    "    temp1 = client.venues(temp)\n",
    "    print v_index\n",
    "    comment_list = map(lambda h: h['text'], temp1['venue']['tips']['groups'][0]['items'])\n",
    "    for c_index in range(len(comment_list)-1):\n",
    "        print c_index\n",
    "        comment_converter = unicodedata.normalize('NFKD', comment_list[c_index]).encode('ascii','ignore')\n",
    "        print \"test\"\n",
    "        if (starting_list['venues'][v_index]['categories']) != []:  \n",
    "            venue_table = venue_table.append(pd.DataFrame({\"name\": unicodedata.normalize('NFKD', starting_list['venues'][v_index]['name']).encode('ascii','ignore'),\n",
    "                                            \"tip count\": starting_list['venues'][v_index]['stats']['tipCount'],\n",
    "                                            \"users count\": starting_list['venues'][v_index]['stats']['usersCount'],\n",
    "                                             \"store category\": unicodedata.normalize('NFKD', starting_list['venues'][v_index]['categories'][0]['name']).encode('ascii','ignore'), \n",
    "                                             \"comments\": comment_converter}, index = [v_index + c_index]))\n",
    "        else:\n",
    "            venue_table = venue_table.append(pd.DataFrame({\"name\": unicodedata.normalize('NFKD', starting_list['venues'][v_index]['name']).encode('ascii','ignore'),\n",
    "                                            \"tip count\": starting_list['venues'][v_index]['stats']['tipCount'],\n",
    "                                            \"users count\": starting_list['venues'][v_index]['stats']['usersCount'],\n",
    "                                             \"store category\": \"No categories\", \n",
    "                                             \"comments\": comment_converter}, index = [v_index + c_index]))\n"
   ]
  },
  {
   "cell_type": "markdown",
   "metadata": {},
   "source": [
    "Finally, output the Venue table"
   ]
  },
  {
   "cell_type": "code",
   "execution_count": 11,
   "metadata": {
    "collapsed": false
   },
   "outputs": [
    {
     "data": {
      "text/html": [
       "<div>\n",
       "<table border=\"1\" class=\"dataframe\">\n",
       "  <thead>\n",
       "    <tr style=\"text-align: right;\">\n",
       "      <th></th>\n",
       "      <th>comments</th>\n",
       "      <th>name</th>\n",
       "      <th>store category</th>\n",
       "      <th>tip count</th>\n",
       "      <th>users count</th>\n",
       "    </tr>\n",
       "  </thead>\n",
       "  <tbody>\n",
       "    <tr>\n",
       "      <th>0</th>\n",
       "      <td>Watch out for the cops!!</td>\n",
       "      <td>Suwanee, GA</td>\n",
       "      <td>City</td>\n",
       "      <td>11</td>\n",
       "      <td>1294</td>\n",
       "    </tr>\n",
       "    <tr>\n",
       "      <th>1</th>\n",
       "      <td>The BEST city to live in Atlanta !</td>\n",
       "      <td>Suwanee, GA</td>\n",
       "      <td>City</td>\n",
       "      <td>11</td>\n",
       "      <td>1294</td>\n",
       "    </tr>\n",
       "    <tr>\n",
       "      <th>2</th>\n",
       "      <td>ritas is delicious keep eyes out for their spe...</td>\n",
       "      <td>Suwanee, GA</td>\n",
       "      <td>City</td>\n",
       "      <td>11</td>\n",
       "      <td>1294</td>\n",
       "    </tr>\n",
       "    <tr>\n",
       "      <th>3</th>\n",
       "      <td>Dillards coffee is verrry good, cheap, and fas...</td>\n",
       "      <td>Suwanee, GA</td>\n",
       "      <td>City</td>\n",
       "      <td>11</td>\n",
       "      <td>1294</td>\n",
       "    </tr>\n",
       "    <tr>\n",
       "      <th>4</th>\n",
       "      <td>Great city to live, work , and play!</td>\n",
       "      <td>Suwanee, GA</td>\n",
       "      <td>City</td>\n",
       "      <td>11</td>\n",
       "      <td>1294</td>\n",
       "    </tr>\n",
       "    <tr>\n",
       "      <th>5</th>\n",
       "      <td>Casa de Juan Carlos.</td>\n",
       "      <td>Suwanee, GA</td>\n",
       "      <td>City</td>\n",
       "      <td>11</td>\n",
       "      <td>1294</td>\n",
       "    </tr>\n",
       "    <tr>\n",
       "      <th>6</th>\n",
       "      <td>Its not a vineyard that I was trying to check ...</td>\n",
       "      <td>Suwanee, GA</td>\n",
       "      <td>City</td>\n",
       "      <td>11</td>\n",
       "      <td>1294</td>\n",
       "    </tr>\n",
       "    <tr>\n",
       "      <th>7</th>\n",
       "      <td>Watch out for the large roaming street gangs a...</td>\n",
       "      <td>Suwanee, GA</td>\n",
       "      <td>City</td>\n",
       "      <td>11</td>\n",
       "      <td>1294</td>\n",
       "    </tr>\n",
       "    <tr>\n",
       "      <th>8</th>\n",
       "      <td>Dispatch: 4000 Mcginnis Ferry Rd, Suwanee, GA ...</td>\n",
       "      <td>Suwanee, GA</td>\n",
       "      <td>City</td>\n",
       "      <td>11</td>\n",
       "      <td>1294</td>\n",
       "    </tr>\n",
       "    <tr>\n",
       "      <th>9</th>\n",
       "      <td>PO Box 1325, Suwanee, Georgia 30024</td>\n",
       "      <td>Suwanee, GA</td>\n",
       "      <td>City</td>\n",
       "      <td>11</td>\n",
       "      <td>1294</td>\n",
       "    </tr>\n",
       "    <tr>\n",
       "      <th>16</th>\n",
       "      <td>Great teambuilding event for your office holid...</td>\n",
       "      <td>Three Keys Escape Game</td>\n",
       "      <td>General Entertainment</td>\n",
       "      <td>2</td>\n",
       "      <td>7</td>\n",
       "    </tr>\n",
       "    <tr>\n",
       "      <th>20</th>\n",
       "      <td>Popcorn Palladium is a unique family friendly ...</td>\n",
       "      <td>Popcorn Palladium</td>\n",
       "      <td>Snack Place</td>\n",
       "      <td>4</td>\n",
       "      <td>57</td>\n",
       "    </tr>\n",
       "    <tr>\n",
       "      <th>21</th>\n",
       "      <td>My favorite popcorn is the Chicago Mix. Half c...</td>\n",
       "      <td>Popcorn Palladium</td>\n",
       "      <td>Snack Place</td>\n",
       "      <td>4</td>\n",
       "      <td>57</td>\n",
       "    </tr>\n",
       "    <tr>\n",
       "      <th>22</th>\n",
       "      <td>BEST gourmet popcorn around! Text \"PopcornP\" t...</td>\n",
       "      <td>Popcorn Palladium</td>\n",
       "      <td>Snack Place</td>\n",
       "      <td>4</td>\n",
       "      <td>57</td>\n",
       "    </tr>\n",
       "  </tbody>\n",
       "</table>\n",
       "</div>"
      ],
      "text/plain": [
       "                                             comments                    name  \\\n",
       "0                            Watch out for the cops!!             Suwanee, GA   \n",
       "1                  The BEST city to live in Atlanta !             Suwanee, GA   \n",
       "2   ritas is delicious keep eyes out for their spe...             Suwanee, GA   \n",
       "3   Dillards coffee is verrry good, cheap, and fas...             Suwanee, GA   \n",
       "4                Great city to live, work , and play!             Suwanee, GA   \n",
       "5                                Casa de Juan Carlos.             Suwanee, GA   \n",
       "6   Its not a vineyard that I was trying to check ...             Suwanee, GA   \n",
       "7   Watch out for the large roaming street gangs a...             Suwanee, GA   \n",
       "8   Dispatch: 4000 Mcginnis Ferry Rd, Suwanee, GA ...             Suwanee, GA   \n",
       "9                 PO Box 1325, Suwanee, Georgia 30024             Suwanee, GA   \n",
       "16  Great teambuilding event for your office holid...  Three Keys Escape Game   \n",
       "20  Popcorn Palladium is a unique family friendly ...       Popcorn Palladium   \n",
       "21  My favorite popcorn is the Chicago Mix. Half c...       Popcorn Palladium   \n",
       "22  BEST gourmet popcorn around! Text \"PopcornP\" t...       Popcorn Palladium   \n",
       "\n",
       "           store category  tip count  users count  \n",
       "0                    City         11         1294  \n",
       "1                    City         11         1294  \n",
       "2                    City         11         1294  \n",
       "3                    City         11         1294  \n",
       "4                    City         11         1294  \n",
       "5                    City         11         1294  \n",
       "6                    City         11         1294  \n",
       "7                    City         11         1294  \n",
       "8                    City         11         1294  \n",
       "9                    City         11         1294  \n",
       "16  General Entertainment          2            7  \n",
       "20            Snack Place          4           57  \n",
       "21            Snack Place          4           57  \n",
       "22            Snack Place          4           57  "
      ]
     },
     "execution_count": 11,
     "metadata": {},
     "output_type": "execute_result"
    }
   ],
   "source": [
    "venue_table.drop_duplicates()"
   ]
  },
  {
   "cell_type": "markdown",
   "metadata": {
    "collapsed": true
   },
   "source": [
    "You've done it! You've built a simple crawler that traverses a JSON directory, and you've deposited the results in a nice Pandas data frame. Congratulations! You're now ready for more data-mining in the future, and have just beefed up the **data** part of the data science combination :)"
   ]
  },
  {
   "cell_type": "code",
   "execution_count": null,
   "metadata": {
    "collapsed": true
   },
   "outputs": [],
   "source": []
  }
 ],
 "metadata": {
  "anaconda-cloud": {},
  "kernelspec": {
   "display_name": "Python [Root]",
   "language": "python",
   "name": "Python [Root]"
  },
  "language_info": {
   "codemirror_mode": {
    "name": "ipython",
    "version": 2
   },
   "file_extension": ".py",
   "mimetype": "text/x-python",
   "name": "python",
   "nbconvert_exporter": "python",
   "pygments_lexer": "ipython2",
   "version": "2.7.12"
  }
 },
 "nbformat": 4,
 "nbformat_minor": 0
}
