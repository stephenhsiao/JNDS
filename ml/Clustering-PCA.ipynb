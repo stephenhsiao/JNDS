{
 "cells": [
  {
   "cell_type": "markdown",
   "metadata": {},
   "source": [
    "## Lab 4.3"
   ]
  },
  {
   "cell_type": "markdown",
   "metadata": {},
   "source": [
    "#### Requirements\n",
    "\n",
    "- Collect the data\n",
    "- Perform a **truncated singular value decomposition (SVD)** on the dataset to determine which components are most significant within the articles.\n",
    "- Create a write-up of your findings; for the technical team members make sure to comment your process, and for the non-technical team members, draft a brief report to outline why your findings are significant.\n",
    "\n",
    "Just as in a real life scenario, the data and your analysis will not always be clear cut. While you may be wondering when you've succeeded in solving the problem, we're looking for your best recommendations based on the available data. Work through the process until you and your teammate have enough information to provide an in-depth analysis. Your manager would like to see at least 60% accuracy for your analysis.\n",
    "\n",
    "**Bonus:**\n",
    "\n",
    "1. Continue tuning your model to reach a higher threshold/percentage\n",
    "2. Triangulate or repeat using a different method\n",
    "\n",
    "#### Starter code\n",
    "\n",
    "For this project, we're going to be utilizing the Newsgroup 20 data that is publicly available on the UCI Machine learning repository. Fortunately, Scikit has a direct implementation of this to make our data collection process easy:\n",
    "\n",
    "```\n",
    "from sklearn.datasets import fetch_20newsgroups\n",
    "newsgroups_train = fetch_20newsgroups(subset='train')\n",
    "```\n",
    "\n",
    "We're going to be looking at the training subset, which included several thousand news articles, as a subset of the larger 20,000 newsgroup article set. \n",
    "\n",
    "Within this set, we can have two attributes - the data and the class labels. \n",
    "\n",
    "Our class labels are under \"target_names\" \n",
    "\n",
    "```\n",
    "newsgroups_train.target_names\n",
    "```\n",
    "\n",
    "and our data:\n",
    "\n",
    "```\n",
    "newsgroups_train.data\n",
    "```\n",
    "\n",
    "[Here is your starter code!](./code/starter-code.ipynb)\n",
    "\n",
    "#### Deliverable ####\n",
    "\n",
    "Your finished product will be a Jupyter Notebook containing your analysis, which will include;\n",
    "\n",
    "- Your solution code\n",
    "- A brief write-up on your findings, with one paragraph on your findings and one paragraph on your procedures\n",
    "- Recommendations for further analytical procedures on the datasets\n",
    "\n",
    "> [Solution Code](./code/solution-code.ipynb)\n",
    "\n",
    "## Additional Resources\n",
    "\n",
    "- A link to [the Newsgroup 20 datasets](http://scikit-learn.org/stable/datasets/twenty_newsgroups.html) for Scikit. \n",
    "- The [SVD Documentation](http://scikit-learn.org/stable/modules/generated/sklearn.decomposition.TruncatedSVD.html)for Scikit. "
   ]
  },
  {
   "cell_type": "markdown",
   "metadata": {},
   "source": [
    "#### Setup your imports"
   ]
  },
  {
   "cell_type": "code",
   "execution_count": 1,
   "metadata": {
    "collapsed": false
   },
   "outputs": [],
   "source": [
    "import pandas as pd \n",
    "from sklearn.datasets import fetch_20newsgroups\n",
    "from sklearn.feature_extraction.text import CountVectorizer\n",
    "import numpy as np\n",
    "from sklearn.preprocessing import StandardScaler\n",
    "from sklearn.decomposition import PCA, TruncatedSVD\n",
    "from sklearn.cluster import KMeans\n",
    "from sklearn import metrics\n",
    "import matplotlib.pyplot as plt"
   ]
  },
  {
   "cell_type": "markdown",
   "metadata": {},
   "source": [
    "#### 1. Pull the training set from the newsgroup data"
   ]
  },
  {
   "cell_type": "code",
   "execution_count": 2,
   "metadata": {
    "collapsed": true
   },
   "outputs": [],
   "source": [
    "newsgroups_train = fetch_20newsgroups(subset='train')"
   ]
  },
  {
   "cell_type": "code",
   "execution_count": 3,
   "metadata": {
    "collapsed": true
   },
   "outputs": [],
   "source": [
    "y = newsgroups_train.target\n",
    "x = newsgroups_train.data"
   ]
  },
  {
   "cell_type": "markdown",
   "metadata": {},
   "source": [
    "#### 2. Create the vectorizer "
   ]
  },
  {
   "cell_type": "code",
   "execution_count": 4,
   "metadata": {
    "collapsed": true
   },
   "outputs": [],
   "source": [
    "vectorizer = CountVectorizer(max_features = 1000,\n",
    "                             ngram_range=(1, 2),\n",
    "                             stop_words='english',\n",
    "                             binary=True)"
   ]
  },
  {
   "cell_type": "markdown",
   "metadata": {},
   "source": [
    "#### 3. Create the Truncated Singular Value Decomposition"
   ]
  },
  {
   "cell_type": "code",
   "execution_count": 5,
   "metadata": {
    "collapsed": false
   },
   "outputs": [],
   "source": [
    "svd = TruncatedSVD(n_components=50, random_state=42)"
   ]
  },
  {
   "cell_type": "markdown",
   "metadata": {},
   "source": [
    "#### 4. Setup your k-means clustering"
   ]
  },
  {
   "cell_type": "code",
   "execution_count": 6,
   "metadata": {
    "collapsed": false
   },
   "outputs": [
    {
     "name": "stdout",
     "output_type": "stream",
     "text": [
      "[7 4 4 ..., 3 1 8]\n"
     ]
    }
   ],
   "source": [
    "print newsgroups_train.target"
   ]
  },
  {
   "cell_type": "code",
   "execution_count": 7,
   "metadata": {
    "collapsed": false
   },
   "outputs": [],
   "source": [
    "k = 10\n",
    "km = KMeans(n_clusters=k)"
   ]
  },
  {
   "cell_type": "markdown",
   "metadata": {},
   "source": [
    "#### 5. Fit the vectorizer and SVD"
   ]
  },
  {
   "cell_type": "code",
   "execution_count": 8,
   "metadata": {
    "collapsed": false
   },
   "outputs": [],
   "source": [
    "X = vectorizer.fit_transform(x)"
   ]
  },
  {
   "cell_type": "code",
   "execution_count": 9,
   "metadata": {
    "collapsed": false
   },
   "outputs": [],
   "source": [
    "X2 = svd.fit_transform(X)"
   ]
  },
  {
   "cell_type": "markdown",
   "metadata": {},
   "source": [
    "#### 7. Fit the kmeans"
   ]
  },
  {
   "cell_type": "code",
   "execution_count": 10,
   "metadata": {
    "collapsed": false
   },
   "outputs": [
    {
     "data": {
      "text/plain": [
       "KMeans(copy_x=True, init='k-means++', max_iter=300, n_clusters=10, n_init=10,\n",
       "    n_jobs=1, precompute_distances='auto', random_state=None, tol=0.0001,\n",
       "    verbose=0)"
      ]
     },
     "execution_count": 10,
     "metadata": {},
     "output_type": "execute_result"
    }
   ],
   "source": [
    "km.fit(X2)"
   ]
  },
  {
   "cell_type": "code",
   "execution_count": 11,
   "metadata": {
    "collapsed": true
   },
   "outputs": [],
   "source": [
    "labels = km.labels_\n",
    "centroids = km.cluster_centers_"
   ]
  },
  {
   "cell_type": "code",
   "execution_count": 12,
   "metadata": {
    "collapsed": false,
    "scrolled": false
   },
   "outputs": [
    {
     "name": "stdout",
     "output_type": "stream",
     "text": [
      "[1 1 2 ..., 3 8 1]\n",
      "[[  4.18037149e+00  -2.78048992e-01   7.69426660e-01  -6.59378385e-01\n",
      "   -3.93012745e-02  -2.24957642e-01   1.28168210e-01   1.14445597e-01\n",
      "   -2.08116240e-01  -1.86407744e-02   9.91034775e-02  -8.54276914e-03\n",
      "   -4.28923903e-03   1.00452962e-01  -9.71930406e-03  -1.63551569e-01\n",
      "   -1.77202494e-02   1.73506368e-02  -6.92354287e-02  -3.11776415e-04\n",
      "   -1.99893221e-02  -1.89868035e-02  -3.32071510e-02   1.71795990e-02\n",
      "    7.76017902e-04   3.01091989e-02  -3.35620696e-02   4.30688762e-02\n",
      "   -2.40724751e-02   2.64134672e-02  -3.72185501e-02  -5.97202905e-02\n",
      "   -8.45392685e-02   1.75352312e-03   1.63625695e-02  -1.60607632e-02\n",
      "   -3.71538717e-02   2.59588684e-02   1.79903594e-02  -1.34008183e-02\n",
      "    2.20416530e-02   2.21621303e-02   1.06787731e-02   5.86048593e-02\n",
      "   -2.05919310e-02  -8.65067137e-03  -1.76093348e-02   2.50642146e-02\n",
      "   -1.27083343e-02   7.66767552e-03]\n",
      " [  2.66453712e+00  -1.57947545e+00   5.74052896e-01   2.55642333e-01\n",
      "    1.51991800e-01  -2.29851524e-01  -2.50610229e-01   5.66070351e-03\n",
      "    1.43528021e-01   4.20089111e-02  -1.78310156e-02  -4.97821227e-02\n",
      "    1.65312399e-02  -2.22635624e-02   2.72215423e-02   1.90650612e-02\n",
      "   -1.73073268e-02  -6.87678152e-03   2.61541129e-02  -9.48053796e-03\n",
      "   -7.59146474e-03   1.54296258e-04  -1.95955119e-02  -3.10851331e-04\n",
      "    1.10115452e-03  -5.53986244e-03   3.21108416e-03  -9.72285358e-03\n",
      "    1.84718200e-02  -1.90114704e-02   5.56028299e-03   1.81112121e-02\n",
      "    2.02285836e-03   3.89965120e-04  -1.12913500e-02   1.56601964e-02\n",
      "   -6.50192157e-03  -2.08021084e-02   5.78411359e-03  -1.77486179e-03\n",
      "   -1.25434856e-02   1.59819671e-02   4.38032158e-03  -1.27920237e-02\n",
      "    4.58077625e-03   2.74475646e-02  -6.53114793e-03  -1.54292927e-02\n",
      "    1.38285751e-02  -9.96256298e-03]\n",
      " [  3.41249544e+00   1.32987258e+00  -5.78495395e-01  -3.59042072e-01\n",
      "    5.23848094e-02  -1.67497359e-01  -5.26666043e-02  -2.97069300e-02\n",
      "   -5.07601313e-02  -4.04499444e-02   6.39949384e-02   2.32821869e-02\n",
      "    2.96475642e-02   4.40967009e-02   1.24050658e-02  -1.66330073e-01\n",
      "    7.16051683e-04  -1.08876690e-02   1.48761887e-03  -4.34077107e-02\n",
      "    8.03897403e-03   3.34615120e-02   2.41521896e-03   4.39922641e-02\n",
      "   -7.69641811e-04   5.55446472e-02  -2.91945653e-02   5.53754741e-02\n",
      "    1.77482176e-03   2.27395956e-02  -4.15232863e-02  -2.67011695e-02\n",
      "   -5.98603888e-02  -1.51436460e-02  -1.20970494e-02   1.38552607e-02\n",
      "   -1.52092964e-03  -1.81079963e-02   1.78728451e-02   5.96019212e-03\n",
      "    3.93122275e-02   1.28278902e-02   2.92133318e-02   1.07750076e-02\n",
      "   -1.28044763e-03   1.03356354e-02  -2.39171102e-02   1.63752145e-02\n",
      "    4.93161570e-03  -7.84800270e-03]\n",
      " [  1.81571777e+00   1.28583254e-01  -5.75447831e-01   7.04966172e-01\n",
      "   -5.69039194e-01  -3.01709774e-01  -4.65529086e-01   6.53250957e-02\n",
      "    1.70044573e-01   8.57972558e-02  -1.32798589e-01  -4.90031507e-02\n",
      "   -6.00482432e-02  -2.13231065e-02   5.38489130e-02  -6.66412020e-02\n",
      "   -1.17802814e-02   5.94753073e-02  -1.09016654e-02   2.73430747e-02\n",
      "    1.40264161e-02   1.43397788e-02  -7.23313814e-02  -8.41649160e-03\n",
      "   -6.17707954e-03   4.81947712e-03   3.52648004e-03  -3.36690393e-02\n",
      "    2.74261563e-02  -1.07237860e-02   1.50391894e-02   3.31770416e-02\n",
      "   -2.48249753e-03  -2.34442974e-03  -1.47638174e-02   1.14465501e-02\n",
      "   -5.20547610e-03   3.50235374e-02  -2.14633179e-03   7.06684067e-03\n",
      "   -3.47873909e-03   2.16192711e-02   9.56239811e-03   1.51573214e-02\n",
      "    2.23199480e-02   1.53911406e-02  -3.37500729e-02  -3.86308027e-02\n",
      "    1.72987762e-02  -1.24667363e-02]\n",
      " [  9.00179575e+00   5.76921952e+00   4.38234645e+00   2.92008727e+00\n",
      "    4.57208471e-02   9.48847539e-01   1.15226009e+00  -4.21066446e-01\n",
      "   -2.75005581e-02   1.30280915e-01   2.40557263e-01   4.06800061e-01\n",
      "   -1.89361120e-01  -2.70748586e-02  -3.11186322e-03   6.89090789e-01\n",
      "   -7.53824457e-02   2.55394194e-01   4.36008215e-01  -6.81557544e-02\n",
      "    2.24336587e-01  -5.05007088e-01  -7.90189009e-02  -1.90896196e-01\n",
      "    2.76052996e-01  -1.24016448e-01  -4.00148845e-03  -2.55801705e-01\n",
      "    1.29043081e-01  -1.62314393e-02   1.99767540e-01   3.68886970e-01\n",
      "    2.74578458e-01   1.53063820e-01  -1.30775047e-01   1.66896120e-01\n",
      "    1.82281781e-01  -2.32427477e-01   8.84439974e-02  -1.39510016e-01\n",
      "    1.00593279e-01  -2.33584953e-02  -9.72633064e-02  -6.33454983e-02\n",
      "    4.00480681e-02   1.02160482e-01   1.39305989e-01  -1.04608103e-01\n",
      "   -1.22910755e-01  -8.50475807e-03]\n",
      " [  5.36091893e+00   2.95940400e+00   1.02282367e+00  -8.68414467e-01\n",
      "    4.18544338e-01  -1.41127805e-01  -4.58884422e-01  -1.21148762e-01\n",
      "    2.50297752e-01  -1.58235111e-02  -1.11157462e-01  -6.84016935e-02\n",
      "    4.71800140e-02  -8.23601136e-02   1.10875485e-01   1.39710791e-01\n",
      "    1.36891478e-02  -7.16451013e-02  -4.22378176e-02   4.95492957e-02\n",
      "   -1.17083739e-01   6.06505614e-02   3.36603628e-02   1.86096254e-02\n",
      "   -5.72304149e-02  -4.69296929e-02   5.55579596e-02  -8.75985606e-03\n",
      "   -5.51965679e-03  -1.13297745e-02   6.73443395e-03  -7.19831315e-02\n",
      "    4.77320989e-02   1.04022625e-02   2.22570563e-02  -7.16106048e-02\n",
      "   -6.66941052e-02   5.78519850e-02  -5.83780388e-02   5.97606385e-02\n",
      "   -7.24880817e-02   1.17091175e-03  -1.36194301e-02  -1.74264049e-02\n",
      "   -5.68546604e-03  -1.86748946e-02  -4.54541272e-02   3.02292844e-02\n",
      "    2.28121896e-02   1.59009485e-02]\n",
      " [  2.46036972e+00   2.14688753e-01  -1.18759515e+00  -3.31383031e-02\n",
      "   -2.71827731e-01   2.91964418e-01   2.21071961e-01  -4.20607414e-02\n",
      "   -4.31043369e-02   5.08475245e-03  -3.36647129e-02  -3.97235522e-02\n",
      "    8.56547586e-03  -1.59064535e-02  -5.83183789e-02   9.49120717e-02\n",
      "    1.26374968e-02  -3.61151028e-02   2.64680222e-02   2.99556177e-02\n",
      "    3.81455795e-02  -3.26378386e-03  -8.87550578e-04   4.04806000e-02\n",
      "    3.26858595e-05  -1.50615957e-02   1.72748750e-02  -6.83944468e-03\n",
      "   -1.86027097e-03  -1.76151996e-02   1.20869706e-02   2.29151282e-02\n",
      "    3.34369774e-02   5.61132284e-03   1.20957581e-02  -9.28343118e-04\n",
      "    1.74564907e-02  -5.84255194e-03  -7.82444836e-03  -7.20435215e-03\n",
      "    1.55668859e-04   8.24127425e-03  -2.27347598e-02  -7.11885279e-04\n",
      "   -2.08112343e-03   3.94380553e-03   1.65557432e-02  -3.94180183e-03\n",
      "    5.65757170e-03  -1.18634852e-02]\n",
      " [  3.40116661e+00   3.10356299e-01   5.67625587e-01   1.97193745e+00\n",
      "    2.39174331e-01   1.84489529e+00  -2.60919921e-01   1.50377576e+00\n",
      "    5.32294353e-01  -3.88483512e-01   3.87841823e-01   4.80247605e-01\n",
      "   -1.00003035e-01   4.91688243e-02   1.41127369e-01  -3.01342718e-01\n",
      "   -9.84623788e-02  -3.91453938e-01  -1.80000518e-01  -9.70749196e-02\n",
      "   -2.73130281e-02   7.01314986e-01   5.26770821e-02  -3.75575888e-01\n",
      "    1.87005193e-01  -1.71316977e-01  -1.07480025e-03   1.41484584e-01\n",
      "   -2.15633093e-01   9.93702549e-02  -2.26395386e-01  -3.73454705e-01\n",
      "    1.19353205e-01  -4.27383689e-01   5.46381135e-02   1.03247217e-01\n",
      "   -3.49825733e-02   4.45023056e-01  -1.27600271e-02  -2.87375001e-01\n",
      "   -7.04447091e-02  -2.81673807e-01   8.05340296e-02  -6.88366578e-02\n",
      "   -2.49472987e-01  -1.38986274e-01   1.85209736e-01   9.37355532e-02\n",
      "    9.81374615e-02  -3.45719489e-02]\n",
      " [  3.28233957e+00  -1.31757846e+00   1.64228465e-01  -5.08970895e-01\n",
      "   -2.32044143e-01   3.14326598e-01   2.89437387e-01  -4.04660494e-02\n",
      "   -4.01591683e-02  -3.31692986e-02  -4.05978296e-02   5.96837017e-02\n",
      "   -1.66904750e-02  -3.87810403e-02  -2.25877835e-02   4.93045692e-02\n",
      "    4.09248403e-02  -5.30118360e-03  -5.76728942e-03  -5.41555263e-03\n",
      "   -4.08120796e-03   1.52488313e-02   5.31709868e-02   3.86440456e-03\n",
      "   -1.06406930e-02  -1.39279327e-02   1.68992183e-02  -3.16045076e-03\n",
      "   -1.16146660e-02   1.56254192e-02   2.04380956e-03   2.08660935e-03\n",
      "    4.55523280e-02   5.94707783e-03   2.44689065e-04  -7.14594542e-03\n",
      "    3.97813376e-02   4.96679020e-03  -1.26673842e-02   2.98622593e-02\n",
      "    6.34257681e-03  -1.14666568e-02  -8.50233367e-03  -6.22145756e-03\n",
      "    3.29856941e-03  -3.07250891e-02   1.29729159e-02  -1.05971928e-03\n",
      "   -1.73826832e-02   6.01811951e-03]\n",
      " [  1.96074234e+00  -9.81112540e-02  -8.79170490e-01   7.04630467e-01\n",
      "    6.60725767e-01  -2.34452019e-01  -2.07329941e-01  -5.20790446e-02\n",
      "    2.70959929e-02   1.02844288e-01  -2.87700502e-02  -8.15536649e-02\n",
      "    2.24577617e-02   7.27916897e-03  -1.80411464e-03  -1.40226168e-02\n",
      "   -4.48305084e-02   2.71345211e-02   1.29194879e-02   1.43061368e-02\n",
      "    4.15704598e-02   4.60592588e-03  -3.14910878e-02  -1.74146373e-02\n",
      "   -9.66862273e-03   5.60418284e-03   2.43133772e-03  -4.50827545e-02\n",
      "    2.98577726e-02   5.41954215e-04   1.90695358e-02   2.70456992e-02\n",
      "   -3.63201198e-02   1.47403982e-02  -3.47423636e-02   4.83187004e-03\n",
      "   -1.95622387e-02  -2.35283421e-02  -7.32957636e-03  -1.27875572e-02\n",
      "    8.75902238e-03  -1.81565196e-02  -6.71751649e-03  -6.06825385e-03\n",
      "    3.40071684e-02   1.53537909e-02   1.57354872e-02  -8.63246544e-03\n",
      "   -5.00520272e-03   1.75690590e-02]]\n"
     ]
    }
   ],
   "source": [
    "print labels\n",
    "print centroids"
   ]
  },
  {
   "cell_type": "markdown",
   "metadata": {},
   "source": [
    "#### 8. Check the performance of our kmeans test"
   ]
  },
  {
   "cell_type": "code",
   "execution_count": 13,
   "metadata": {
    "collapsed": false
   },
   "outputs": [
    {
     "data": {
      "text/plain": [
       "0.058953508926993109"
      ]
     },
     "execution_count": 13,
     "metadata": {},
     "output_type": "execute_result"
    }
   ],
   "source": [
    "metrics.accuracy_score(y, labels)"
   ]
  },
  {
   "cell_type": "markdown",
   "metadata": {},
   "source": [
    "#### Classification Report"
   ]
  },
  {
   "cell_type": "code",
   "execution_count": 14,
   "metadata": {
    "collapsed": false
   },
   "outputs": [
    {
     "name": "stdout",
     "output_type": "stream",
     "text": [
      "             precision    recall  f1-score   support\n",
      "\n",
      "          0       0.07      0.11      0.08       480\n",
      "          1       0.09      0.32      0.14       584\n",
      "          2       0.02      0.05      0.03       591\n",
      "          3       0.09      0.21      0.12       590\n",
      "          4       0.01      0.00      0.00       578\n",
      "          5       0.00      0.00      0.00       593\n",
      "          6       0.01      0.03      0.01       585\n",
      "          7       0.00      0.00      0.00       594\n",
      "          8       0.09      0.26      0.13       598\n",
      "          9       0.07      0.18      0.10       597\n",
      "         10       0.00      0.00      0.00       600\n",
      "         11       0.00      0.00      0.00       595\n",
      "         12       0.00      0.00      0.00       591\n",
      "         13       0.00      0.00      0.00       594\n",
      "         14       0.00      0.00      0.00       593\n",
      "         15       0.00      0.00      0.00       599\n",
      "         16       0.00      0.00      0.00       546\n",
      "         17       0.00      0.00      0.00       564\n",
      "         18       0.00      0.00      0.00       465\n",
      "         19       0.00      0.00      0.00       377\n",
      "\n",
      "avg / total       0.02      0.06      0.03     11314\n",
      "\n"
     ]
    },
    {
     "name": "stderr",
     "output_type": "stream",
     "text": [
      "C:\\Users\\shsiao\\AppData\\Local\\Continuum\\Anaconda2\\lib\\site-packages\\sklearn\\metrics\\classification.py:1074: UndefinedMetricWarning: Precision and F-score are ill-defined and being set to 0.0 in labels with no predicted samples.\n",
      "  'precision', 'predicted', average, warn_for)\n"
     ]
    }
   ],
   "source": [
    "print metrics.classification_report(y, labels)"
   ]
  },
  {
   "cell_type": "markdown",
   "metadata": {},
   "source": [
    "#### Confusion Matrix"
   ]
  },
  {
   "cell_type": "code",
   "execution_count": 15,
   "metadata": {
    "collapsed": false
   },
   "outputs": [
    {
     "name": "stdout",
     "output_type": "stream",
     "text": [
      "[[ 54  31  67  14   4  30 123   0 138  19   0   0   0   0   0   0   0   0\n",
      "    0   0]\n",
      " [ 30 185  14 102   4   3  71   2  54 119   0   0   0   0   0   0   0   0\n",
      "    0   0]\n",
      " [ 27 141  28  85   2   1  87  11  64 145   0   0   0   0   0   0   0   0\n",
      "    0   0]\n",
      " [ 34 172  24 125   2   3  76   3  52  99   0   0   0   0   0   0   0   0\n",
      "    0   0]\n",
      " [ 28 177  23  83   1   1  74   0  89 102   0   0   0   0   0   0   0   0\n",
      "    0   0]\n",
      " [ 27 196  16 122  12   0  57   2  69  92   0   0   0   0   0   0   0   0\n",
      "    0   0]\n",
      " [ 15 225   9 124   0   0  15  11  15 171   0   0   0   0   0   0   0   0\n",
      "    0   0]\n",
      " [ 62 107  62  64   2   6 115   0 103  73   0   0   0   0   0   0   0   0\n",
      "    0   0]\n",
      " [ 29 119  40  62   1   2 147   2 154  42   0   0   0   0   0   0   0   0\n",
      "    0   0]\n",
      " [ 49  91  44  38   0  12 121  14 123 105   0   0   0   0   0   0   0   0\n",
      "    0   0]\n",
      " [ 52 101  37  29   1   9 134  42  94 101   0   0   0   0   0   0   0   0\n",
      "    0   0]\n",
      " [ 86  54  85 101  10  23 106   5  92  33   0   0   0   0   0   0   0   0\n",
      "    0   0]\n",
      " [ 26 141  47 115   1   1  72   1  98  89   0   0   0   0   0   0   0   0\n",
      "    0   0]\n",
      " [ 35  74  66  76   8  15 168   2  79  71   0   0   0   0   0   0   0   0\n",
      "    0   0]\n",
      " [ 43  93  56  49   8  11 129  15 123  66   0   0   0   0   0   0   0   0\n",
      "    0   0]\n",
      " [  1   0 197  74   0  67 133   5   0 122   0   0   0   0   0   0   0   0\n",
      "    0   0]\n",
      " [ 95  47  90  48   2  36  72   3 120  33   0   0   0   0   0   0   0   0\n",
      "    0   0]\n",
      " [ 49  53 100  53   4  52 122   4  84  43   0   0   0   0   0   0   0   0\n",
      "    0   0]\n",
      " [ 58  26  72  16  10  29 129   0  90  35   0   0   0   0   0   0   0   0\n",
      "    0   0]\n",
      " [ 24  36  55  41   1  43  91   1  56  29   0   0   0   0   0   0   0   0\n",
      "    0   0]]\n"
     ]
    }
   ],
   "source": [
    "print(metrics.confusion_matrix(y, labels))"
   ]
  },
  {
   "cell_type": "markdown",
   "metadata": {},
   "source": [
    "#### Note: Repeat the kmeans test with varying values of \"k\" to determine the best performance. Use the techniques that we learned about in the *Tuning Clusters* lesson to further tune the clusters"
   ]
  },
  {
   "cell_type": "code",
   "execution_count": null,
   "metadata": {
    "collapsed": true
   },
   "outputs": [],
   "source": []
  }
 ],
 "metadata": {
  "kernelspec": {
   "display_name": "Python [Root]",
   "language": "python",
   "name": "Python [Root]"
  },
  "language_info": {
   "codemirror_mode": {
    "name": "ipython",
    "version": 2
   },
   "file_extension": ".py",
   "mimetype": "text/x-python",
   "name": "python",
   "nbconvert_exporter": "python",
   "pygments_lexer": "ipython2",
   "version": "2.7.12"
  }
 },
 "nbformat": 4,
 "nbformat_minor": 0
}
