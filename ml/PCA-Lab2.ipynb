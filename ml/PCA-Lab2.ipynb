{
 "cells": [
  {
   "cell_type": "markdown",
   "metadata": {},
   "source": [
    "# PCA Lab II\n",
    "\n",
    "#### Requirements\n",
    "\n",
    "- Import the data\n",
    "- Perform a Principal Component Analysis to determine which components are most significant in relation to flight delays.\n",
    "- Graph your PCA results to better understand the distribution of the principal components\n",
    "- Perform k-means clustering on and graph it against the principal components\n",
    "- Create a write-up of your findings; for the technical team members make sure to comment your process, and for the non-technical team members, draft a brief report to outline why your findings are significant.\n",
    "\n",
    "Just as in a real life scenario, the data and your analysis will not always be clear cut. While you may be wondering when you've succeeded in solving the problem, we're looking for your best recommendations based on the available data. Work through the process until you and your teammate have enough information to provide an in-depth analysis.\n",
    "\n",
    "**Bonus:**\n",
    "- Repeat your analysis on subsets of the data to understand deeper insights into the behavior of flight delays. For instance, instead of looking at all of the data, subset your analysis to look at just delay or arrival metrics. \n"
   ]
  },
  {
   "cell_type": "code",
   "execution_count": 1,
   "metadata": {
    "collapsed": true
   },
   "outputs": [],
   "source": [
    "import pandas as pd\n",
    "import numpy as np\n",
    "from matplotlib import pyplot as plt\n",
    "import math\n",
    "from sklearn.preprocessing import StandardScaler\n",
    "from sklearn.decomposition import PCA \n",
    "from sklearn.cluster import KMeans\n",
    "from sklearn import metrics\n",
    "\n",
    "\n",
    "%matplotlib inline\n"
   ]
  },
  {
   "cell_type": "markdown",
   "metadata": {},
   "source": [
    "## Step 1: Setup the Data"
   ]
  },
  {
   "cell_type": "markdown",
   "metadata": {},
   "source": [
    "After you've downloaded the data from the repository, go ahead and load it with Pandas"
   ]
  },
  {
   "cell_type": "code",
   "execution_count": 2,
   "metadata": {
    "collapsed": true
   },
   "outputs": [],
   "source": [
    "airports = pd.read_csv('./data/airport_operations.csv')"
   ]
  },
  {
   "cell_type": "code",
   "execution_count": 3,
   "metadata": {
    "collapsed": false
   },
   "outputs": [
    {
     "data": {
      "text/html": [
       "<div>\n",
       "<table border=\"1\" class=\"dataframe\">\n",
       "  <thead>\n",
       "    <tr style=\"text-align: right;\">\n",
       "      <th></th>\n",
       "      <th>airport</th>\n",
       "      <th>year</th>\n",
       "      <th>departures for metric computation</th>\n",
       "      <th>arrivals for metric computation</th>\n",
       "      <th>percent on-time gate departures</th>\n",
       "      <th>percent on-time airport departures</th>\n",
       "      <th>percent on-time gate arrivals</th>\n",
       "      <th>average_gate_departure_delay</th>\n",
       "      <th>average_taxi_out_time</th>\n",
       "      <th>average taxi out delay</th>\n",
       "      <th>average airport departure delay</th>\n",
       "      <th>average airborne delay</th>\n",
       "      <th>average taxi in delay</th>\n",
       "      <th>average block delay</th>\n",
       "      <th>average gate arrival delay</th>\n",
       "    </tr>\n",
       "  </thead>\n",
       "  <tbody>\n",
       "    <tr>\n",
       "      <th>0</th>\n",
       "      <td>ABQ</td>\n",
       "      <td>2004</td>\n",
       "      <td>53971</td>\n",
       "      <td>53818</td>\n",
       "      <td>0.8030</td>\n",
       "      <td>0.7809</td>\n",
       "      <td>0.7921</td>\n",
       "      <td>10.38</td>\n",
       "      <td>9.89</td>\n",
       "      <td>2.43</td>\n",
       "      <td>12.10</td>\n",
       "      <td>2.46</td>\n",
       "      <td>0.83</td>\n",
       "      <td>2.55</td>\n",
       "      <td>10.87</td>\n",
       "    </tr>\n",
       "    <tr>\n",
       "      <th>1</th>\n",
       "      <td>ABQ</td>\n",
       "      <td>2005</td>\n",
       "      <td>51829</td>\n",
       "      <td>51877</td>\n",
       "      <td>0.8140</td>\n",
       "      <td>0.7922</td>\n",
       "      <td>0.8001</td>\n",
       "      <td>9.60</td>\n",
       "      <td>9.79</td>\n",
       "      <td>2.29</td>\n",
       "      <td>11.20</td>\n",
       "      <td>2.26</td>\n",
       "      <td>0.89</td>\n",
       "      <td>2.34</td>\n",
       "      <td>10.24</td>\n",
       "    </tr>\n",
       "    <tr>\n",
       "      <th>2</th>\n",
       "      <td>ABQ</td>\n",
       "      <td>2006</td>\n",
       "      <td>49682</td>\n",
       "      <td>51199</td>\n",
       "      <td>0.7983</td>\n",
       "      <td>0.7756</td>\n",
       "      <td>0.7746</td>\n",
       "      <td>10.84</td>\n",
       "      <td>9.89</td>\n",
       "      <td>2.16</td>\n",
       "      <td>12.33</td>\n",
       "      <td>2.12</td>\n",
       "      <td>0.84</td>\n",
       "      <td>2.66</td>\n",
       "      <td>11.82</td>\n",
       "    </tr>\n",
       "    <tr>\n",
       "      <th>3</th>\n",
       "      <td>ABQ</td>\n",
       "      <td>2007</td>\n",
       "      <td>53255</td>\n",
       "      <td>53611</td>\n",
       "      <td>0.8005</td>\n",
       "      <td>0.7704</td>\n",
       "      <td>0.7647</td>\n",
       "      <td>11.29</td>\n",
       "      <td>10.34</td>\n",
       "      <td>2.40</td>\n",
       "      <td>12.95</td>\n",
       "      <td>2.19</td>\n",
       "      <td>1.29</td>\n",
       "      <td>3.06</td>\n",
       "      <td>12.71</td>\n",
       "    </tr>\n",
       "    <tr>\n",
       "      <th>4</th>\n",
       "      <td>ABQ</td>\n",
       "      <td>2008</td>\n",
       "      <td>49589</td>\n",
       "      <td>49512</td>\n",
       "      <td>0.8103</td>\n",
       "      <td>0.7844</td>\n",
       "      <td>0.7875</td>\n",
       "      <td>10.79</td>\n",
       "      <td>10.41</td>\n",
       "      <td>2.41</td>\n",
       "      <td>12.32</td>\n",
       "      <td>1.82</td>\n",
       "      <td>1.03</td>\n",
       "      <td>2.79</td>\n",
       "      <td>11.48</td>\n",
       "    </tr>\n",
       "  </tbody>\n",
       "</table>\n",
       "</div>"
      ],
      "text/plain": [
       "  airport  year  departures for metric computation  \\\n",
       "0     ABQ  2004                              53971   \n",
       "1     ABQ  2005                              51829   \n",
       "2     ABQ  2006                              49682   \n",
       "3     ABQ  2007                              53255   \n",
       "4     ABQ  2008                              49589   \n",
       "\n",
       "   arrivals for metric computation  percent on-time gate departures  \\\n",
       "0                            53818                           0.8030   \n",
       "1                            51877                           0.8140   \n",
       "2                            51199                           0.7983   \n",
       "3                            53611                           0.8005   \n",
       "4                            49512                           0.8103   \n",
       "\n",
       "   percent on-time airport departures  percent on-time gate arrivals  \\\n",
       "0                              0.7809                         0.7921   \n",
       "1                              0.7922                         0.8001   \n",
       "2                              0.7756                         0.7746   \n",
       "3                              0.7704                         0.7647   \n",
       "4                              0.7844                         0.7875   \n",
       "\n",
       "   average_gate_departure_delay  average_taxi_out_time  \\\n",
       "0                         10.38                   9.89   \n",
       "1                          9.60                   9.79   \n",
       "2                         10.84                   9.89   \n",
       "3                         11.29                  10.34   \n",
       "4                         10.79                  10.41   \n",
       "\n",
       "   average taxi out delay  average airport departure delay  \\\n",
       "0                    2.43                            12.10   \n",
       "1                    2.29                            11.20   \n",
       "2                    2.16                            12.33   \n",
       "3                    2.40                            12.95   \n",
       "4                    2.41                            12.32   \n",
       "\n",
       "   average airborne delay  average taxi in delay  average block delay  \\\n",
       "0                    2.46                   0.83                 2.55   \n",
       "1                    2.26                   0.89                 2.34   \n",
       "2                    2.12                   0.84                 2.66   \n",
       "3                    2.19                   1.29                 3.06   \n",
       "4                    1.82                   1.03                 2.79   \n",
       "\n",
       "   average gate arrival delay  \n",
       "0                       10.87  \n",
       "1                       10.24  \n",
       "2                       11.82  \n",
       "3                       12.71  \n",
       "4                       11.48  "
      ]
     },
     "execution_count": 3,
     "metadata": {},
     "output_type": "execute_result"
    }
   ],
   "source": [
    "airports.head()"
   ]
  },
  {
   "cell_type": "markdown",
   "metadata": {},
   "source": [
    "## Step 2: Explore the Data"
   ]
  },
  {
   "cell_type": "markdown",
   "metadata": {},
   "source": [
    "Next - Let's plot! You can use any plotting library of your choice, but be sure to explore all of the data."
   ]
  },
  {
   "cell_type": "code",
   "execution_count": null,
   "metadata": {
    "collapsed": true
   },
   "outputs": [],
   "source": []
  },
  {
   "cell_type": "markdown",
   "metadata": {},
   "source": [
    "## Step 3: Define the Variables"
   ]
  },
  {
   "cell_type": "markdown",
   "metadata": {},
   "source": [
    "Next, let's define the x and y variables: Airport is going to be our \"x\" variable"
   ]
  },
  {
   "cell_type": "code",
   "execution_count": 4,
   "metadata": {
    "collapsed": true
   },
   "outputs": [],
   "source": [
    "x = airports.ix[:,2:14].values\n",
    "y = airports.ix[:,0].values"
   ]
  },
  {
   "cell_type": "markdown",
   "metadata": {},
   "source": [
    "## Step 4: Covariance Matrix"
   ]
  },
  {
   "cell_type": "markdown",
   "metadata": {},
   "source": [
    "Then, standardize the x variable for analysis"
   ]
  },
  {
   "cell_type": "code",
   "execution_count": 5,
   "metadata": {
    "collapsed": true
   },
   "outputs": [],
   "source": [
    "xStand = StandardScaler().fit_transform(x)"
   ]
  },
  {
   "cell_type": "markdown",
   "metadata": {},
   "source": [
    "Next, create the covariance matrix from the standardized x-values and decompose these values to find the eigenvalues and eigenvectors"
   ]
  },
  {
   "cell_type": "code",
   "execution_count": 6,
   "metadata": {
    "collapsed": true
   },
   "outputs": [],
   "source": [
    "covMat = np.cov(xStand.T)\n",
    "eigenValues, eigenVectors = np.linalg.eig(covMat)"
   ]
  },
  {
   "cell_type": "markdown",
   "metadata": {},
   "source": [
    "# Step 5: Eigenpairs"
   ]
  },
  {
   "cell_type": "markdown",
   "metadata": {},
   "source": [
    "Then, check your eigenvalues and eigenvectors:"
   ]
  },
  {
   "cell_type": "code",
   "execution_count": 7,
   "metadata": {
    "collapsed": false
   },
   "outputs": [
    {
     "name": "stdout",
     "output_type": "stream",
     "text": [
      "[  5.71594128e+00   4.10771763e+00   8.46070622e-01   4.92674626e-01\n",
      "   4.68096266e-01   1.66713004e-01   8.78260266e-02   7.27989129e-02\n",
      "   5.25813963e-02   2.99299918e-03   1.67049793e-04   7.05899593e-04]\n",
      "[[ -1.92844661e-01  -3.85272521e-01   4.00175037e-01   1.64039585e-01\n",
      "    1.86296653e-01   2.78156147e-01   7.86539360e-02   3.17041164e-02\n",
      "    7.52767812e-02  -1.14438376e-02  -7.07864735e-01  -3.44682322e-02]\n",
      " [ -1.92353674e-01  -3.85057896e-01   4.02190449e-01   1.66802678e-01\n",
      "    1.84403875e-01   2.78351867e-01   9.04981279e-02   3.77083630e-02\n",
      "    8.09001581e-02   1.35190021e-02   7.04235896e-01   3.71215770e-02]\n",
      " [  2.87689649e-01  -3.33455724e-01  -2.51323774e-01  -8.13357968e-02\n",
      "    7.50865080e-03   2.37735910e-02  -5.78177983e-02   1.41563250e-02\n",
      "    4.95309257e-01  -6.57324120e-01   2.23495764e-02  -2.32792117e-01]\n",
      " [  3.80590914e-01  -1.72431188e-01  -8.79462334e-02  -7.06458258e-02\n",
      "    2.02464908e-01   3.45123821e-03  -3.15914078e-01   9.30547916e-02\n",
      "    4.84973886e-01   6.09336471e-01  -2.20444648e-02   2.37173471e-01]\n",
      " [  2.85894088e-01  -3.36301043e-01  -2.99134199e-02   1.59518162e-01\n",
      "   -5.12469346e-02  -3.06233643e-02  -2.07043287e-01  -7.87364899e-01\n",
      "   -3.33260534e-01   3.67949391e-02   5.48464537e-03  -2.08419184e-03]\n",
      " [ -3.19365327e-01   2.95222542e-01   1.95276008e-01   1.86885012e-02\n",
      "   -6.65872405e-02  -1.22212120e-03  -3.92604115e-01  -2.75502523e-01\n",
      "    3.45228298e-01   1.45513297e-01   3.21025839e-02  -6.29686589e-01]\n",
      " [ -2.72077655e-01  -3.05263296e-01  -3.04479989e-01  -8.35800429e-02\n",
      "   -3.43919599e-01   3.23409367e-01  -5.80326612e-01   3.07776351e-01\n",
      "   -2.80010662e-01   1.33496666e-02   4.13102202e-03   1.06566875e-02]\n",
      " [ -2.47982235e-01  -3.23707493e-01  -3.51187640e-01  -5.81869499e-02\n",
      "   -4.19037265e-01  -9.28961663e-03   5.54308167e-01  -1.38404356e-01\n",
      "    2.06344540e-01   3.59873452e-01  -1.87008221e-03  -1.81155973e-01]\n",
      " [ -3.92056250e-01   1.36959631e-01   3.70775090e-02   5.58230767e-03\n",
      "   -2.41434941e-01  -9.92247360e-03  -1.20046325e-01  -3.26214034e-01\n",
      "    3.80279739e-01  -2.09531398e-01  -2.99779163e-02   6.76385459e-01]\n",
      " [ -2.98989675e-01  -5.16452073e-02  -4.41081814e-01   6.79759440e-01\n",
      "    3.90490913e-01  -2.98369590e-01  -7.22260624e-02   6.46423217e-02\n",
      "    1.98264161e-02  -2.73459390e-03   4.22755339e-04  -2.88803204e-03]\n",
      " [ -1.90359458e-01  -3.77174733e-01   2.61070489e-01  -3.01434755e-01\n",
      "   -2.21947423e-02  -7.90128611e-01  -1.41945294e-01   1.16128252e-01\n",
      "   -6.20250983e-02  -1.36797121e-02   1.79745348e-03  -3.77383032e-03]\n",
      " [ -3.15603375e-01  -2.13859116e-02  -2.96733113e-01  -5.86965005e-01\n",
      "    6.14850169e-01   1.59771754e-01   4.07605103e-02  -2.34320642e-01\n",
      "   -8.47086808e-02  -2.68694989e-03   3.24845461e-03   5.48054975e-03]]\n"
     ]
    }
   ],
   "source": [
    "print(eigenValues)\n",
    "print(eigenVectors)"
   ]
  },
  {
   "cell_type": "markdown",
   "metadata": {},
   "source": [
    "To find the principal componants, find th eigenpairs, and sort them from highest to lowest. "
   ]
  },
  {
   "cell_type": "code",
   "execution_count": 8,
   "metadata": {
    "collapsed": false
   },
   "outputs": [
    {
     "name": "stdout",
     "output_type": "stream",
     "text": [
      "5.71594128131\n",
      "4.10771763057\n",
      "0.846070621527\n",
      "0.492674626426\n",
      "0.468096266456\n",
      "0.166713003709\n",
      "0.0878260265801\n",
      "0.0727989128724\n",
      "0.0525813962709\n",
      "0.0029929991831\n",
      "0.000705899593354\n",
      "0.000167049792639\n"
     ]
    }
   ],
   "source": [
    "eigenPairs = [(np.abs(eigenValues[i]), eigenVectors[:,i]) for i in range(len(eigenValues))]\n",
    "eigenPairs.sort()\n",
    "eigenPairs.reverse()\n",
    "for i in eigenPairs:\n",
    "    print(i[0])"
   ]
  },
  {
   "cell_type": "markdown",
   "metadata": {},
   "source": [
    "## Step 6: Explained Variance"
   ]
  },
  {
   "cell_type": "code",
   "execution_count": 9,
   "metadata": {
    "collapsed": true
   },
   "outputs": [],
   "source": [
    "totalEigen = sum(eigenValues)\n",
    "varExpl = [(i / totalEigen)*100 for i in sorted(eigenValues, reverse=True)]"
   ]
  },
  {
   "cell_type": "code",
   "execution_count": 10,
   "metadata": {
    "collapsed": false
   },
   "outputs": [
    {
     "name": "stdout",
     "output_type": "stream",
     "text": [
      "[47.576205670808932, 34.190277543366463, 7.0422049354191811, 4.1007400534903633, 3.8961639300747151, 1.387623098650598, 0.73101330090439465, 0.60593625458597833, 0.43765728168431489, 0.024912002713086329, 0.0058755019660897438, 0.0013904263358754916]\n"
     ]
    }
   ],
   "source": [
    "print(varExpl)"
   ]
  },
  {
   "cell_type": "markdown",
   "metadata": {},
   "source": [
    "Now, calculate the explained variance and the Cumulative explained variance"
   ]
  },
  {
   "cell_type": "code",
   "execution_count": 11,
   "metadata": {
    "collapsed": true
   },
   "outputs": [],
   "source": [
    "cvarex = np.cumsum(varExpl)"
   ]
  },
  {
   "cell_type": "code",
   "execution_count": 12,
   "metadata": {
    "collapsed": false
   },
   "outputs": [
    {
     "name": "stdout",
     "output_type": "stream",
     "text": [
      "[ 47.57620567  81.76648321  88.80868815  92.9094282   96.80559213\n",
      "  98.19321523  98.92422853  99.53016479  99.96782207  99.99273407\n",
      "  99.99860957 100.        ]\n"
     ]
    }
   ],
   "source": [
    "print(cvarex)"
   ]
  },
  {
   "cell_type": "markdown",
   "metadata": {},
   "source": [
    "** What does the explained variance tell us?**: Here, we can see that 81.77% of the behavior can be explained by the first two principal componants"
   ]
  },
  {
   "cell_type": "markdown",
   "metadata": {},
   "source": [
    "## Step 7: Perform the PCA"
   ]
  },
  {
   "cell_type": "markdown",
   "metadata": {},
   "source": [
    "Instead of creating the projection matrix, we're going to use Scikit's built in function. Now that we have discovered the principal componants, we have an educated idea on how many componants to pass to the function. "
   ]
  },
  {
   "cell_type": "code",
   "execution_count": 13,
   "metadata": {
    "collapsed": true
   },
   "outputs": [],
   "source": [
    "pcask = PCA(n_components=2)\n",
    "Y = pcask.fit_transform(xStand)"
   ]
  },
  {
   "cell_type": "markdown",
   "metadata": {},
   "source": [
    "Create a dataframe from the PCA results"
   ]
  },
  {
   "cell_type": "code",
   "execution_count": 14,
   "metadata": {
    "collapsed": false
   },
   "outputs": [],
   "source": [
    "Ydf = pd.DataFrame(Y, columns=[\"PC1\", \"PC2\"])"
   ]
  },
  {
   "cell_type": "markdown",
   "metadata": {},
   "source": [
    "Now, create a new dataframe that uses the airport and year from the original set and join the PCA results with it to form a new set"
   ]
  },
  {
   "cell_type": "code",
   "execution_count": null,
   "metadata": {
    "collapsed": false
   },
   "outputs": [],
   "source": [
    "airports2 = airports[['airport', 'year']]"
   ]
  },
  {
   "cell_type": "code",
   "execution_count": null,
   "metadata": {
    "collapsed": false
   },
   "outputs": [],
   "source": [
    "airport_pca = airports2.join(Ydf, on=None, how='left')"
   ]
  },
  {
   "cell_type": "code",
   "execution_count": null,
   "metadata": {
    "collapsed": false
   },
   "outputs": [],
   "source": [
    "Ydf.head()"
   ]
  },
  {
   "cell_type": "markdown",
   "metadata": {},
   "source": [
    "Next, graph the results onto the new feature space"
   ]
  },
  {
   "cell_type": "code",
   "execution_count": null,
   "metadata": {
    "collapsed": false,
    "scrolled": true
   },
   "outputs": [],
   "source": [
    "graph = airport_pca.plot(kind='scatter', x='PC2', y='PC1', figsize=(16,8))\n",
    "\n",
    "for i, airport in enumerate(airports['airport']):\n",
    "    graph.annotate(airport, (airport_pca.iloc[i].PC2, airport_pca.iloc[i].PC1))"
   ]
  },
  {
   "cell_type": "markdown",
   "metadata": {},
   "source": [
    "**What does the graph tell us?**"
   ]
  },
  {
   "cell_type": "markdown",
   "metadata": {},
   "source": [
    "## Step 8: Cluster with K-Means"
   ]
  },
  {
   "cell_type": "markdown",
   "metadata": {},
   "source": [
    "Set up the k-means clustering analysis. Use the graph from above to derive \"k\""
   ]
  },
  {
   "cell_type": "code",
   "execution_count": null,
   "metadata": {
    "collapsed": false
   },
   "outputs": [],
   "source": [
    "kmeans = KMeans(n_clusters=2)\n",
    "clusters = kmeans.fit(x)"
   ]
  },
  {
   "cell_type": "markdown",
   "metadata": {},
   "source": [
    "Compute the labels and centroids"
   ]
  },
  {
   "cell_type": "code",
   "execution_count": null,
   "metadata": {
    "collapsed": true
   },
   "outputs": [],
   "source": [
    "labels = kmeans.labels_\n",
    "centroids = kmeans.cluster_centers_"
   ]
  },
  {
   "cell_type": "code",
   "execution_count": null,
   "metadata": {
    "collapsed": false
   },
   "outputs": [],
   "source": [
    "print(centroids)"
   ]
  },
  {
   "cell_type": "markdown",
   "metadata": {},
   "source": [
    "Compute the Silhoutte Score"
   ]
  },
  {
   "cell_type": "code",
   "execution_count": null,
   "metadata": {
    "collapsed": false
   },
   "outputs": [],
   "source": [
    "metrics.silhouette_score(x, labels, metric='euclidean')"
   ]
  },
  {
   "cell_type": "markdown",
   "metadata": {},
   "source": [
    "Lastly, plot the new two-dimensional data along with their cluster assignments: "
   ]
  },
  {
   "cell_type": "code",
   "execution_count": null,
   "metadata": {
    "collapsed": true
   },
   "outputs": [],
   "source": [
    "airport_pca['cluster'] = pd.Series(clusters.labels_)"
   ]
  },
  {
   "cell_type": "code",
   "execution_count": null,
   "metadata": {
    "collapsed": false
   },
   "outputs": [],
   "source": [
    "graph2 =airport_pca.plot(\n",
    "    kind='scatter',\n",
    "    x='PC2',y='PC1',\n",
    "    c=airport_pca.cluster.astype(np.float), \n",
    "    figsize=(16,8))\n",
    "\n",
    "for i, airport in enumerate(airports['airport']):\n",
    "    graph.annotate(airport, (airport_pca.iloc[i].PC2, airport_pca.iloc[i].PC1))"
   ]
  },
  {
   "cell_type": "code",
   "execution_count": null,
   "metadata": {
    "collapsed": true
   },
   "outputs": [],
   "source": []
  },
  {
   "cell_type": "code",
   "execution_count": null,
   "metadata": {
    "collapsed": true
   },
   "outputs": [],
   "source": []
  }
 ],
 "metadata": {
  "anaconda-cloud": {},
  "kernelspec": {
   "display_name": "Python [Root]",
   "language": "python",
   "name": "Python [Root]"
  },
  "language_info": {
   "codemirror_mode": {
    "name": "ipython",
    "version": 2
   },
   "file_extension": ".py",
   "mimetype": "text/x-python",
   "name": "python",
   "nbconvert_exporter": "python",
   "pygments_lexer": "ipython2",
   "version": "2.7.12"
  }
 },
 "nbformat": 4,
 "nbformat_minor": 0
}
