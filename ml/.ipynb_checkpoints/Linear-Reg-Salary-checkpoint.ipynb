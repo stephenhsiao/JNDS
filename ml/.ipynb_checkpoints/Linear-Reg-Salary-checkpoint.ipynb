{
 "cells": [
  {
   "cell_type": "markdown",
   "metadata": {},
   "source": [
    "# Case Study\n",
    "\n",
    "You are a data scientist at a top recruiting firm. Predict job salary based on different attributes to help the company more accurately/profitably determine compensation.\n",
    "\n",
    "To start, load in the data and poke around. Try to determine the most common jobs in the data set, and use linear regression to predict the 2015 salary.\n"
   ]
  },
  {
   "cell_type": "code",
   "execution_count": 1,
   "metadata": {
    "collapsed": true
   },
   "outputs": [],
   "source": [
    "# Some python imports you may find useful\n",
    "% matplotlib inline\n",
    "\n",
    "from collections import defaultdict\n",
    "import datetime\n",
    "\n",
    "from matplotlib import pyplot as plt\n",
    "import numpy as np\n",
    "import pandas as pd\n",
    "import seaborn as sns\n",
    "from sklearn import linear_model"
   ]
  },
  {
   "cell_type": "code",
   "execution_count": 2,
   "metadata": {
    "collapsed": false
   },
   "outputs": [
    {
     "data": {
      "text/html": [
       "<div>\n",
       "<table border=\"1\" class=\"dataframe\">\n",
       "  <thead>\n",
       "    <tr style=\"text-align: right;\">\n",
       "      <th></th>\n",
       "      <th>id</th>\n",
       "      <th>EmployeeName</th>\n",
       "      <th>JobTitle</th>\n",
       "      <th>BasePay</th>\n",
       "      <th>OvertimePay</th>\n",
       "      <th>OtherPay</th>\n",
       "      <th>Benefits</th>\n",
       "      <th>TotalPay</th>\n",
       "      <th>TotalPayBenefits</th>\n",
       "      <th>Year</th>\n",
       "      <th>Notes</th>\n",
       "      <th>Agency</th>\n",
       "      <th>Status</th>\n",
       "    </tr>\n",
       "  </thead>\n",
       "  <tbody>\n",
       "    <tr>\n",
       "      <th>0</th>\n",
       "      <td>148652</td>\n",
       "      <td>William J Coaker Jr.</td>\n",
       "      <td>Chief Investment Officer</td>\n",
       "      <td>507831.60</td>\n",
       "      <td>0.00</td>\n",
       "      <td>0.00</td>\n",
       "      <td>125891.73</td>\n",
       "      <td>507831.60</td>\n",
       "      <td>633723.33</td>\n",
       "      <td>2015</td>\n",
       "      <td>NaN</td>\n",
       "      <td>San Francisco</td>\n",
       "      <td>FT</td>\n",
       "    </tr>\n",
       "    <tr>\n",
       "      <th>1</th>\n",
       "      <td>148657</td>\n",
       "      <td>John L Martin</td>\n",
       "      <td>Dept Head V</td>\n",
       "      <td>326764.01</td>\n",
       "      <td>0.00</td>\n",
       "      <td>0.00</td>\n",
       "      <td>82732.26</td>\n",
       "      <td>326764.01</td>\n",
       "      <td>409496.27</td>\n",
       "      <td>2015</td>\n",
       "      <td>NaN</td>\n",
       "      <td>San Francisco</td>\n",
       "      <td>FT</td>\n",
       "    </tr>\n",
       "    <tr>\n",
       "      <th>2</th>\n",
       "      <td>148660</td>\n",
       "      <td>Harlan L Kelly-Jr</td>\n",
       "      <td>Executive Contract Employee</td>\n",
       "      <td>320480.00</td>\n",
       "      <td>0.00</td>\n",
       "      <td>0.00</td>\n",
       "      <td>79917.45</td>\n",
       "      <td>320480.00</td>\n",
       "      <td>400397.45</td>\n",
       "      <td>2015</td>\n",
       "      <td>NaN</td>\n",
       "      <td>San Francisco</td>\n",
       "      <td>FT</td>\n",
       "    </tr>\n",
       "    <tr>\n",
       "      <th>3</th>\n",
       "      <td>72927</td>\n",
       "      <td>Gregory P Suhr</td>\n",
       "      <td>Chief of Police</td>\n",
       "      <td>319275.01</td>\n",
       "      <td>0.00</td>\n",
       "      <td>20007.06</td>\n",
       "      <td>86533.21</td>\n",
       "      <td>339282.07</td>\n",
       "      <td>425815.28</td>\n",
       "      <td>2013</td>\n",
       "      <td>NaN</td>\n",
       "      <td>San Francisco</td>\n",
       "      <td>NaN</td>\n",
       "    </tr>\n",
       "    <tr>\n",
       "      <th>4</th>\n",
       "      <td>110534</td>\n",
       "      <td>Amy P Hart</td>\n",
       "      <td>Asst Med Examiner</td>\n",
       "      <td>318835.49</td>\n",
       "      <td>10712.95</td>\n",
       "      <td>60563.54</td>\n",
       "      <td>89540.23</td>\n",
       "      <td>390111.98</td>\n",
       "      <td>479652.21</td>\n",
       "      <td>2014</td>\n",
       "      <td>NaN</td>\n",
       "      <td>San Francisco</td>\n",
       "      <td>FT</td>\n",
       "    </tr>\n",
       "  </tbody>\n",
       "</table>\n",
       "</div>"
      ],
      "text/plain": [
       "       id          EmployeeName                     JobTitle    BasePay  \\\n",
       "0  148652  William J Coaker Jr.     Chief Investment Officer  507831.60   \n",
       "1  148657         John L Martin                  Dept Head V  326764.01   \n",
       "2  148660     Harlan L Kelly-Jr  Executive Contract Employee  320480.00   \n",
       "3   72927        Gregory P Suhr              Chief of Police  319275.01   \n",
       "4  110534            Amy P Hart            Asst Med Examiner  318835.49   \n",
       "\n",
       "   OvertimePay  OtherPay   Benefits   TotalPay  TotalPayBenefits  Year  Notes  \\\n",
       "0         0.00      0.00  125891.73  507831.60         633723.33  2015    NaN   \n",
       "1         0.00      0.00   82732.26  326764.01         409496.27  2015    NaN   \n",
       "2         0.00      0.00   79917.45  320480.00         400397.45  2015    NaN   \n",
       "3         0.00  20007.06   86533.21  339282.07         425815.28  2013    NaN   \n",
       "4     10712.95  60563.54   89540.23  390111.98         479652.21  2014    NaN   \n",
       "\n",
       "          Agency Status  \n",
       "0  San Francisco     FT  \n",
       "1  San Francisco     FT  \n",
       "2  San Francisco     FT  \n",
       "3  San Francisco    NaN  \n",
       "4  San Francisco     FT  "
      ]
     },
     "execution_count": 2,
     "metadata": {},
     "output_type": "execute_result"
    }
   ],
   "source": [
    "# Load the the salary data\n",
    "df = pd.read_csv(\"data/Salaries.csv\")\n",
    "\n",
    "# Take a quick look\n",
    "df.head()"
   ]
  },
  {
   "cell_type": "markdown",
   "metadata": {},
   "source": [
    "## Exploratory Analysis\n",
    "\n",
    "Use `value_counts` to look at the distribution of job types. Pick a job type and investigate further. For example, make a histogram of salaries and compute the mean and median per year."
   ]
  },
  {
   "cell_type": "code",
   "execution_count": 13,
   "metadata": {
    "collapsed": false
   },
   "outputs": [
    {
     "name": "stdout",
     "output_type": "stream",
     "text": [
      "Transit Operator                                      9773\n",
      "Special Nurse                                         5911\n",
      "Registered Nurse                                      5040\n",
      "Public Svc Aide-Public Works                          3235\n",
      "Custodian                                             3223\n",
      "Firefighter                                           3158\n",
      "Police Officer 3                                      3133\n",
      "Recreation Leader                                     2664\n",
      "Deputy Sheriff                                        2526\n",
      "Patient Care Assistant                                2519\n",
      "TRANSIT OPERATOR                                      2388\n",
      "Police Officer                                        2162\n",
      "Public Service Trainee                                2143\n",
      "Attorney (Civil/Criminal)                             1505\n",
      "Police Officer 2                                      1489\n",
      "Porter                                                1468\n",
      "Sergeant 3                                            1439\n",
      "SPECIAL NURSE                                         1402\n",
      "General Laborer                                       1390\n",
      "EMT/Paramedic/Firefighter                             1267\n",
      "REGISTERED NURSE                                      1219\n",
      "Gardener                                              1193\n",
      "Parking Control Officer                               1167\n",
      "Senior Clerk                                          1166\n",
      "Library Page                                          1059\n",
      "Clerk                                                 1027\n",
      "HSA Sr Eligibility Worker                              995\n",
      "Senior Clerk Typist                                    942\n",
      "Licensed Vocational Nurse                              928\n",
      "Nurse Practitioner                                     908\n",
      "                                                      ... \n",
      "Dvlpmnt Spec (OCII)                                      1\n",
      "ATTORNEY FOR THE PUBLIC ADMINISTRATOR                    1\n",
      "POWER PLANT SUPERVISOR I                                 1\n",
      "ACUPUNCTURIST                                            1\n",
      "SUPPLY ROOM ATTENDENT                                    1\n",
      "MATERIALS AND SUPPLIES SUPERVISOR                        1\n",
      "Sr DA Investigator(SFERS)                                1\n",
      "Special Assistant 8                                      1\n",
      "EXECUTIVE ASSISTANT TO THE GENERAL MANAGER, RETIRE       1\n",
      "PAINTER SUPERVISOR II                                    1\n",
      "CHIEF NURSERY SPECIALIST                                 1\n",
      "POWER GENERATION TECHNICIAN I                            1\n",
      "MAYORAL STAFF XI                                         1\n",
      "ASSESSOR                                                 1\n",
      "Conversion                                               1\n",
      "SPECIAL ASSISTANT XVIII                                  1\n",
      "TREE TOPPER SUPERVISOR II                                1\n",
      "LIEUTENANT II (POLICE DEPARTMENT)                        1\n",
      "AREA SUPERVISOR, PARKS, SQUARES AND FACILITIES           1\n",
      "Pianist                                                  1\n",
      "SENIOR CLAIMS INVESTIGATOR                               1\n",
      "SECRETARY,JUVENILE PROBATION COMMISSION                  1\n",
      "MARKET RESEARCH SPECIALISTS, PORT                        1\n",
      "SECRETARY TO THE PRESIDING JUDGE                         1\n",
      "SECRETARY, LIBRARY COMMISSION                            1\n",
      "ASSOCIATE MUSEUM CONSERVATOR, ASIAN ART MUSEUM           1\n",
      "ASSOCIATE HUMAN RESOURCES ANALYST                        1\n",
      "AIRPORT ASSISTANT DEPUTY DIRECTOR, BUSINESS ADMINI       1\n",
      "SENIOR MEDICAL TRANSCRIBER TYPIST                        1\n",
      "AUDIOLOGIST                                              1\n",
      "Name: JobTitle, dtype: int64\n"
     ]
    },
    {
     "data": {
      "text/plain": [
       "3952"
      ]
     },
     "execution_count": 13,
     "metadata": {},
     "output_type": "execute_result"
    }
   ],
   "source": [
    "counts = df[\"JobTitle\"].value_counts()\n",
    "print counts\n",
    "mask = (df[\"JobTitle\"] == \"FIREFIGHTER\") | (df[\"JobTitle\"] == \"Firefighter\")\n",
    "len(df[mask])"
   ]
  },
  {
   "cell_type": "code",
   "execution_count": 14,
   "metadata": {
    "collapsed": false
   },
   "outputs": [
    {
     "data": {
      "image/png": "[encoded data removed]",
      "text/plain": [
       "<matplotlib.figure.Figure at 0x1771cb00>"
      ]
     },
     "metadata": {},
     "output_type": "display_data"
    }
   ],
   "source": [
    "# Histogram of salaries -- one per year perhaps\n",
    "mask2 = mask & (df[\"Year\"] == 2012)\n",
    "df[mask].hist(column=\"TotalPay\", bins=50)\n",
    "plt.title(\"2012 Firefighter Salaries\")\n",
    "plt.show()"
   ]
  },
  {
   "cell_type": "code",
   "execution_count": 15,
   "metadata": {
    "collapsed": false
   },
   "outputs": [
    {
     "data": {
      "image/png": "[encoded data removed]",
      "text/plain": [
       "<matplotlib.figure.Figure at 0x16dafbe0>"
      ]
     },
     "metadata": {},
     "output_type": "display_data"
    }
   ],
   "source": [
    "# Look at change over time, mean and median\n",
    "from scipy import stats\n",
    "data = []\n",
    "\n",
    "years = [2011, 2012, 2013, 2014]\n",
    "for year in years:\n",
    "    mask2 = mask & (df[\"Year\"] == year)\n",
    "    mean = np.mean(df[mask2][\"TotalPay\"])\n",
    "    median = np.median(df[mask2][\"TotalPay\"])\n",
    "    data.append((year, mean, median))\n",
    "\n",
    "df2 = pd.DataFrame(data, columns=[\"Year\", \"Mean\", \"Median\"])    \n",
    "    \n",
    "plt.scatter(df2[\"Year\"], df2[\"Mean\"])\n",
    "plt.scatter(df2[\"Year\"], df2[\"Median\"], color='g')\n",
    "plt.show()"
   ]
  },
  {
   "cell_type": "code",
   "execution_count": 16,
   "metadata": {
    "collapsed": false
   },
   "outputs": [
    {
     "name": "stdout",
     "output_type": "stream",
     "text": [
      "Model fit: 0.178828111089\n",
      "Model Coefficients: 2204.3075 -4288432.47\n",
      "Predicted Median for 2015 153247.1425\n"
     ]
    },
    {
     "data": {
      "image/png": "[encoded data removed]",
      "text/plain": [
       "<matplotlib.figure.Figure at 0x737dba8>"
      ]
     },
     "metadata": {},
     "output_type": "display_data"
    }
   ],
   "source": [
    "# Fit a model\n",
    "\n",
    "lm = linear_model.LinearRegression()\n",
    "X = df2[[\"Year\"]]\n",
    "y = df2[\"Median\"]\n",
    "lm.fit(X, y)\n",
    "predictions = lm.predict(X)\n",
    "print \"Model fit:\", lm.score(X, y)\n",
    "print \"Model Coefficients:\", lm.coef_[0], lm.intercept_\n",
    "\n",
    "# Make a prediction for 2015\n",
    "x1 = 2015\n",
    "y1 = lm.intercept_ + x1 * lm.coef_[0]\n",
    "plt.scatter([x1], [y1], color=\"r\")\n",
    "print \"Predicted Median for 2015\", y1\n",
    "\n",
    "# Plot the data and the best fit line\n",
    "plt.scatter(X, y)\n",
    "plt.plot(X, predictions)\n",
    "plt.xlabel(\"Year\")\n",
    "plt.ylabel(\"Median Salary\")\n",
    "plt.show()"
   ]
  },
  {
   "cell_type": "code",
   "execution_count": null,
   "metadata": {
    "collapsed": true
   },
   "outputs": [],
   "source": []
  }
 ],
 "metadata": {
  "anaconda-cloud": {},
  "kernelspec": {
   "display_name": "Python [Root]",
   "language": "python",
   "name": "Python [Root]"
  },
  "language_info": {
   "codemirror_mode": {
    "name": "ipython",
    "version": 2
   },
   "file_extension": ".py",
   "mimetype": "text/x-python",
   "name": "python",
   "nbconvert_exporter": "python",
   "pygments_lexer": "ipython2",
   "version": "2.7.12"
  }
 },
 "nbformat": 4,
 "nbformat_minor": 0
}
