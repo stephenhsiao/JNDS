{
 "cells": [
  {
   "cell_type": "markdown",
   "metadata": {},
   "source": [
    "# Linear Regression Practice\n",
    "\n",
    "In this notebook we'll practice linear regresssions on a new data set of real estate transactions from Sacramento.\n",
    "\n",
    "Start by [downloading](https://trello-attachments.s3.amazonaws.com/5679b2e91535c674fadb2efe/56b39dbfc8bbe91b11d49e9f/bb26a8e51e1bb392f94c7d7f045b875c/Sacramentorealestatetransactions.csv) the data.\n",
    "\n",
    "In the next cell load the data using pandas. Once you have a data frame, use `data.head()` to look at the first few rows."
   ]
  },
  {
   "cell_type": "code",
   "execution_count": null,
   "metadata": {
    "collapsed": false
   },
   "outputs": [],
   "source": [
    "%matplotlib inline\n",
    "import pandas as pd\n",
    "\n",
    "filename = \"data/Sacramentorealestatetransactions.csv\"\n",
    "\n",
    "data = pd.read_csv(filename)\n",
    "\n",
    "# We need to process the dates to be datetime variables\n",
    "data[\"sale_date\"] = pd.to_datetime(data[\"sale_date\"])\n",
    "\n",
    "data.head()"
   ]
  },
  {
   "cell_type": "markdown",
   "metadata": {},
   "source": [
    "## Visualize the Data\n",
    "The data set contains a number of variables that may be correlated with the price of the properties. Make plots of the relevant variables versus the column \"price\"."
   ]
  },
  {
   "cell_type": "code",
   "execution_count": null,
   "metadata": {
    "collapsed": false
   },
   "outputs": [],
   "source": [
    "import seaborn as sns\n",
    "from matplotlib import pyplot as plt\n",
    "\n",
    "# There are many valid solutions.\n",
    "\n",
    "# For the numerical variables\n",
    "for column in [\"zip\", \"beds\", \"baths\", \"sq__ft\", \"latitude\", \"longitude\"]:\n",
    "    data.plot.scatter(x=column, y=\"price\")"
   ]
  },
  {
   "cell_type": "code",
   "execution_count": null,
   "metadata": {
    "collapsed": false
   },
   "outputs": [],
   "source": [
    "# For the categorical variables\n",
    "for column in [\"city\", \"zip\", \"type\"]:\n",
    "    sns.swarmplot(x=column, y=\"price\", data=data);\n",
    "    sns.plt.show()"
   ]
  },
  {
   "cell_type": "code",
   "execution_count": null,
   "metadata": {
    "collapsed": false
   },
   "outputs": [],
   "source": [
    "# For date:\n",
    "\n",
    "plt.plot_date(data[\"sale_date\"], data[\"price\"])\n",
    "plt.show()\n",
    "\n",
    "# or better yet\n",
    "\n",
    "sns.swarmplot(x=\"sale_date\", y=\"price\", data=data);\n",
    "sns.plt.show()"
   ]
  },
  {
   "cell_type": "markdown",
   "metadata": {},
   "source": [
    "## Regressions\n",
    "\n",
    "* Perform a series of regressions on various combinations of the independent variables.\n",
    "* Plot the predicted values versus the true values\n",
    "* Which combinations gives the best fit?\n",
    "\n",
    "### Solutions\n",
    "\n",
    "Solutions will vary greatly per student depending on the variables they choose and the toolkit. Look for students using `mean_squared_error` to compare models. Good models will likely use the property type and square footage.\n"
   ]
  },
  {
   "cell_type": "code",
   "execution_count": null,
   "metadata": {
    "collapsed": false
   },
   "outputs": [],
   "source": [
    "import statsmodels.api as sm\n",
    "\n",
    "X = data[[\"zip\", \"beds\", \"baths\", \"sq__ft\", \"latitude\", \"longitude\"]]\n",
    "y = data[\"price\"]\n",
    "\n",
    "model = sm.OLS(y, X).fit()\n",
    "predictions = model.predict(X)\n",
    "\n",
    "# Print out the statistics\n",
    "print model.summary()\n",
    "\n",
    "# Plot the model\n",
    "plt.scatter(predictions, y, s=30, c='r', marker='+', zorder=10)\n",
    "plt.xlabel(\"Predicted Values\")\n",
    "plt.ylabel(\"Actual Price\")\n",
    "plt.show()\n",
    "print \"MSE:\", model.mse_model\n"
   ]
  },
  {
   "cell_type": "markdown",
   "metadata": {
    "collapsed": true
   },
   "source": [
    "## Bonus Exercises\n",
    "\n",
    "* Can you improve your models by fitting separate models to each city? To each type? Why or why not?\n",
    "* Are there any data points that are significant outliers? Does you models improve if you remove these points?\n",
    "* Find the best model you can with three variables\n",
    "* Are longitude and latitude useful separately? Try adding each and both to another model and look for mean_squared_error improvement\n",
    "* Can you find any significant correlations between the non-price variables? Which ones?\n",
    "\n",
    "### Again solutions will vary greatly depending on the variables the student uses. Just look for logical attempts to address the exercises."
   ]
  },
  {
   "cell_type": "code",
   "execution_count": null,
   "metadata": {
    "collapsed": false
   },
   "outputs": [],
   "source": []
  }
 ],
 "metadata": {
  "anaconda-cloud": {},
  "kernelspec": {
   "display_name": "Python [Root]",
   "language": "python",
   "name": "Python [Root]"
  },
  "language_info": {
   "codemirror_mode": {
    "name": "ipython",
    "version": 2
   },
   "file_extension": ".py",
   "mimetype": "text/x-python",
   "name": "python",
   "nbconvert_exporter": "python",
   "pygments_lexer": "ipython2",
   "version": "2.7.12"
  }
 },
 "nbformat": 4,
 "nbformat_minor": 0
}
