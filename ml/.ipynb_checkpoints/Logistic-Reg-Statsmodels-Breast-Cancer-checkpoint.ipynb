{
 "cells": [
  {
   "cell_type": "code",
   "execution_count": null,
   "metadata": {
    "collapsed": false
   },
   "outputs": [],
   "source": [
    "# reserve the first cell, to import all dependencies (python classes)\n",
    "import numpy as np\n",
    "import pandas as pd\n",
    "import statsmodels.api as sm"
   ]
  },
  {
   "cell_type": "code",
   "execution_count": null,
   "metadata": {
    "collapsed": true
   },
   "outputs": [],
   "source": [
    "# keep all functions in one cell, call them when you need them. This is practice/review on building functions.\n",
    "def read_file(path): # path = dynamic parameter\n",
    "    return pd.read_csv(path, header = None)"
   ]
  },
  {
   "cell_type": "code",
   "execution_count": null,
   "metadata": {
    "collapsed": true
   },
   "outputs": [],
   "source": [
    "# use function to read in cancer Dataset. \n",
    "path = \"https://archive.ics.uci.edu/ml/machine-learning-databases/breast-cancer-wisconsin/wdbc.data\"\n",
    "df = read_file(path)"
   ]
  },
  {
   "cell_type": "code",
   "execution_count": null,
   "metadata": {
    "collapsed": false
   },
   "outputs": [],
   "source": [
    "# Find Data Dictionary of df\n",
    "df.dtypes"
   ]
  },
  {
   "cell_type": "code",
   "execution_count": null,
   "metadata": {
    "collapsed": true
   },
   "outputs": [],
   "source": [
    "#Obtain the first 10 features, which are the mean figures in the dataset\n",
    "data_df   = df[list(df.columns[2:12])]\n",
    "target_df = df[1]"
   ]
  },
  {
   "cell_type": "code",
   "execution_count": null,
   "metadata": {
    "collapsed": true
   },
   "outputs": [],
   "source": [
    "#Convert DataFrame to Numpy Array\n",
    "x = data_df.as_matrix(columns=None)\n",
    "y = target_df.as_matrix(columns=None)"
   ]
  },
  {
   "cell_type": "code",
   "execution_count": null,
   "metadata": {
    "collapsed": false
   },
   "outputs": [],
   "source": [
    "### specify the model\n",
    "mdl = sm.MNLogit(y, x)\n",
    "mdl_fit = mdl.fit()"
   ]
  },
  {
   "cell_type": "code",
   "execution_count": null,
   "metadata": {
    "collapsed": false
   },
   "outputs": [],
   "source": [
    "### print model summary ###\n",
    "mdl_fit.summary()"
   ]
  },
  {
   "cell_type": "code",
   "execution_count": null,
   "metadata": {
    "collapsed": false
   },
   "outputs": [],
   "source": [
    "### aic and bic ###\n",
    "print(mdl_fit.aic)\n",
    "print(mdl_fit.bic)"
   ]
  },
  {
   "cell_type": "code",
   "execution_count": 18,
   "metadata": {
    "collapsed": false
   },
   "outputs": [
    {
     "name": "stdout",
     "output_type": "stream",
     "text": [
      "       MNLogit Marginal Effects      \n",
      "=====================================\n",
      "Dep. Variable:                      y\n",
      "Method:                          dydx\n",
      "At:                           overall\n",
      "==============================================================================\n",
      "       y=B      dy/dx    std err          z      P>|z|      [95.0% Conf. Int.]\n",
      "------------------------------------------------------------------------------\n",
      "x1             0.1129      0.129      0.878      0.380        -0.139     0.365\n",
      "x2            -0.0145      0.002     -7.763      0.000        -0.018    -0.011\n",
      "x3             0.0017      0.019      0.091      0.927        -0.036     0.039\n",
      "x4            -0.0018      0.000     -5.427      0.000        -0.002    -0.001\n",
      "x5            -2.8506      1.141     -2.499      0.012        -5.086    -0.615\n",
      "x6            -0.0932      0.728     -0.128      0.898        -1.520     1.334\n",
      "x7            -0.2837      0.294     -0.966      0.334        -0.859     0.292\n",
      "x8            -2.6869      1.016     -2.644      0.008        -4.679    -0.695\n",
      "x9            -0.5792      0.392     -1.476      0.140        -1.348     0.190\n",
      "x10            3.6927      2.658      1.389      0.165        -1.517     8.903\n",
      "------------------------------------------------------------------------------\n",
      "       y=M      dy/dx    std err          z      P>|z|      [95.0% Conf. Int.]\n",
      "------------------------------------------------------------------------------\n",
      "x1            -0.1129      0.129     -0.878      0.380        -0.365     0.139\n",
      "x2             0.0145      0.002      7.763      0.000         0.011     0.018\n",
      "x3            -0.0017      0.019     -0.091      0.927        -0.039     0.036\n",
      "x4             0.0018      0.000      5.427      0.000         0.001     0.002\n",
      "x5             2.8506      1.141      2.499      0.012         0.615     5.086\n",
      "x6             0.0932      0.728      0.128      0.898        -1.334     1.520\n",
      "x7             0.2837      0.294      0.966      0.334        -0.292     0.859\n",
      "x8             2.6869      1.016      2.644      0.008         0.695     4.679\n",
      "x9             0.5792      0.392      1.476      0.140        -0.190     1.348\n",
      "x10           -3.6927      2.658     -1.389      0.165        -8.903     1.517\n",
      "==============================================================================\n"
     ]
    }
   ],
   "source": [
    "### marginal effects ###\n",
    "mdl_margeff = mdl_fit.get_margeff()\n",
    "print( mdl_margeff.summary() )"
   ]
  },
  {
   "cell_type": "code",
   "execution_count": null,
   "metadata": {
    "collapsed": true
   },
   "outputs": [],
   "source": []
  }
 ],
 "metadata": {
  "anaconda-cloud": {},
  "kernelspec": {
   "display_name": "Python [Root]",
   "language": "python",
   "name": "Python [Root]"
  },
  "language_info": {
   "codemirror_mode": {
    "name": "ipython",
    "version": 2
   },
   "file_extension": ".py",
   "mimetype": "text/x-python",
   "name": "python",
   "nbconvert_exporter": "python",
   "pygments_lexer": "ipython2",
   "version": "2.7.12"
  }
 },
 "nbformat": 4,
 "nbformat_minor": 0
}
